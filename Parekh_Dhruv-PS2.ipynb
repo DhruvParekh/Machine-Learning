{
 "cells": [
  {
   "cell_type": "markdown",
   "metadata": {
    "ein.tags": [
     "worksheet-0"
    ],
    "slideshow": {
     "slide_type": "-"
    }
   },
   "source": [
    "# Problem Set 2, due April 27th at 3:30 pm\n",
    "\n",
    "**Please Note:** This assignment will likely take you a _long_ time, especially if you are new to Python. Start early!"
   ]
  },
  {
   "cell_type": "markdown",
   "metadata": {
    "ein.tags": [
     "worksheet-0"
    ],
    "slideshow": {
     "slide_type": "-"
    }
   },
   "source": [
    "## Introduction to the assignment\n",
    "\n",
    "For this assignment, you will be using data from the [Progresa program](http://en.wikipedia.org/wiki/Oportunidades), a government social assistance program in Mexico. This program, as well as the details of its impact, are described in the paper \"[School subsidies for the poor: evaluating the Mexican Progresa poverty program](http://www.sciencedirect.com/science/article/pii/S0304387803001858)\", by Paul Shultz (available on Canvas). Please familiarize yourself with the PROGRESA program before beginning this problem set, so you have a rough sense of where the data come from and how they were generated. If you just proceed into the problem set without understanding Progresa or the data, it will be very difficult!\n",
    "\n",
    "The goal of this problem set is to implement some of the basic econometric techniques that you are learning in class to measure the impact of Progresa on secondary school enrollment rates. The timeline of the program was:\n",
    "\n",
    " * Baseline survey conducted in 1997\n",
    " * Intervention begins in 1998, \"Wave 1\" of data collected in 1998\n",
    " * \"Wave 2 of data\" collected in 1999\n",
    " * Evaluation ends in 2000, at which point the control villages were treated. \n",
    " \n",
    "When you are ready, download the progresa_sample.csv data from Canvas. The data are actual data collected to evaluate the impact of the Progresa program.  In this file, each row corresponds to an observation taken for a given child for a given year. There are two years of data (1997 and 1998), and just under 40,000 children who are surveyed in each year. For each child-year observation, the following variables are collected:\n",
    "\n",
    "| Variable name | Description|\n",
    "|---------|---------|\n",
    "|year\t  |year in which data is collected\n",
    "|sex\t  |male = 1|\n",
    "|indig\t  |indigenous = 1|\n",
    "|dist_sec |nearest distance to a secondary school|\n",
    "|sc\t      |enrolled in school in year of survey|\n",
    "|grc      |grade enrolled|\n",
    "|fam_n    |family size|\n",
    "|min_dist |\tmin distance to an urban center|\n",
    "|dist_cap |\tmin distance to the capital|\n",
    "|poor     |\tpoor = 'pobre'|\n",
    "|progresa |treatment = 'basal'|\n",
    "|hohedu\t  |years of schooling of head of household|\n",
    "|hohwag\t  |monthly wages of head of household|\n",
    "|welfare_index|\twelfare index used to classify poor|\n",
    "|hohsex\t  |gender of head of household (male=1)|\n",
    "|hohage   |age of head of household|\n",
    "|age      |years old|\n",
    "|folnum\t  |individual id|\n",
    "|village  |\tvillage id|\n",
    "|sc97\t  |schooling in 1997|"
   ]
  },
  {
   "cell_type": "code",
   "execution_count": 14,
   "metadata": {
    "autoscroll": "json-false",
    "collapsed": false,
    "ein.tags": [
     "worksheet-0"
    ],
    "slideshow": {
     "slide_type": "-"
    }
   },
   "outputs": [
    {
     "name": "stdout",
     "output_type": "stream",
     "text": [
      "3.6.0 |Anaconda 4.3.1 (64-bit)| (default, Dec 23 2016, 11:57:41) [MSC v.1900 64 bit (AMD64)]\n"
     ]
    }
   ],
   "source": [
    "import sys; print(sys.version)\n",
    "%matplotlib inline"
   ]
  },
  {
   "cell_type": "markdown",
   "metadata": {
    "ein.tags": [
     "worksheet-0"
    ],
    "slideshow": {
     "slide_type": "-"
    }
   },
   "source": [
    "---\n",
    "##Part 1: Descriptive analysis\n",
    "\n",
    "### 1.1\tSummary Statistics\n",
    "\n",
    "a) Present number of missing observations for every single variable\n"
   ]
  },
  {
   "cell_type": "code",
   "execution_count": 15,
   "metadata": {
    "autoscroll": "json-false",
    "collapsed": false,
    "ein.tags": [
     "worksheet-0"
    ],
    "slideshow": {
     "slide_type": "-"
    }
   },
   "outputs": [
    {
     "data": {
      "text/plain": [
       "year                0\n",
       "sex                24\n",
       "indig             300\n",
       "dist_sec            0\n",
       "sc               8453\n",
       "grc              6549\n",
       "fam_n               0\n",
       "min_dist            0\n",
       "dist_cap            0\n",
       "poor                0\n",
       "progresa            0\n",
       "hohedu              0\n",
       "hohwag              0\n",
       "welfare_index     210\n",
       "hohsex             20\n",
       "hohage             10\n",
       "age                 0\n",
       "village             0\n",
       "folnum              0\n",
       "grc97               0\n",
       "sc97             3872\n",
       "dtype: int64"
      ]
     },
     "execution_count": 15,
     "metadata": {},
     "output_type": "execute_result"
    }
   ],
   "source": [
    "#import all packages \n",
    "import numpy as np\n",
    "import pandas as pd\n",
    "from scipy import stats\n",
    "from sklearn import linear_model\n",
    "from patsy import dmatrices\n",
    "import matplotlib.pyplot as plt\n",
    "import statsmodels.api as sm\n",
    "# reading the input file\n",
    "p_df = pd.read_csv(\"progresa_sample.csv\")\n",
    "#The below step gives the number of missing observations (i.e. Nan) for each variable\n",
    "p_df.isnull().sum()"
   ]
  },
  {
   "cell_type": "markdown",
   "metadata": {
    "ein.tags": [
     "worksheet-0"
    ],
    "slideshow": {
     "slide_type": "-"
    }
   },
   "source": [
    "b) Present summary statistics (mean and standard deviation) for all of the demographic variables in the dataset (i.e., everything except year, folnum, village). Present these in a single table alphabetized by variable name. Do NOT simply expect the grader to scroll through your output!"
   ]
  },
  {
   "cell_type": "code",
   "execution_count": 16,
   "metadata": {
    "autoscroll": "json-false",
    "collapsed": false,
    "ein.tags": [
     "worksheet-0"
    ],
    "slideshow": {
     "slide_type": "-"
    }
   },
   "outputs": [
    {
     "data": {
      "text/html": [
       "<div>\n",
       "<table border=\"1\" class=\"dataframe\">\n",
       "  <thead>\n",
       "    <tr style=\"text-align: right;\">\n",
       "      <th></th>\n",
       "      <th>mean</th>\n",
       "      <th>std</th>\n",
       "    </tr>\n",
       "  </thead>\n",
       "  <tbody>\n",
       "    <tr>\n",
       "      <th>age</th>\n",
       "      <td>11.366460</td>\n",
       "      <td>3.167744</td>\n",
       "    </tr>\n",
       "    <tr>\n",
       "      <th>dist_cap</th>\n",
       "      <td>147.674452</td>\n",
       "      <td>76.063134</td>\n",
       "    </tr>\n",
       "    <tr>\n",
       "      <th>dist_sec</th>\n",
       "      <td>2.418910</td>\n",
       "      <td>2.234109</td>\n",
       "    </tr>\n",
       "    <tr>\n",
       "      <th>fam_n</th>\n",
       "      <td>7.215715</td>\n",
       "      <td>2.352900</td>\n",
       "    </tr>\n",
       "    <tr>\n",
       "      <th>grc</th>\n",
       "      <td>3.963537</td>\n",
       "      <td>2.499063</td>\n",
       "    </tr>\n",
       "    <tr>\n",
       "      <th>grc97</th>\n",
       "      <td>3.705372</td>\n",
       "      <td>2.572387</td>\n",
       "    </tr>\n",
       "    <tr>\n",
       "      <th>hohage</th>\n",
       "      <td>44.436717</td>\n",
       "      <td>11.620372</td>\n",
       "    </tr>\n",
       "    <tr>\n",
       "      <th>hohedu</th>\n",
       "      <td>2.768104</td>\n",
       "      <td>2.656106</td>\n",
       "    </tr>\n",
       "    <tr>\n",
       "      <th>hohsex</th>\n",
       "      <td>0.925185</td>\n",
       "      <td>0.263095</td>\n",
       "    </tr>\n",
       "    <tr>\n",
       "      <th>hohwag</th>\n",
       "      <td>586.985312</td>\n",
       "      <td>788.133664</td>\n",
       "    </tr>\n",
       "    <tr>\n",
       "      <th>indig</th>\n",
       "      <td>0.298324</td>\n",
       "      <td>0.457525</td>\n",
       "    </tr>\n",
       "    <tr>\n",
       "      <th>min_dist</th>\n",
       "      <td>103.447520</td>\n",
       "      <td>42.089441</td>\n",
       "    </tr>\n",
       "    <tr>\n",
       "      <th>sc</th>\n",
       "      <td>0.819818</td>\n",
       "      <td>0.384342</td>\n",
       "    </tr>\n",
       "    <tr>\n",
       "      <th>sc97</th>\n",
       "      <td>0.813922</td>\n",
       "      <td>0.389172</td>\n",
       "    </tr>\n",
       "    <tr>\n",
       "      <th>sex</th>\n",
       "      <td>0.512211</td>\n",
       "      <td>0.499854</td>\n",
       "    </tr>\n",
       "    <tr>\n",
       "      <th>welfare_index</th>\n",
       "      <td>690.346564</td>\n",
       "      <td>139.491130</td>\n",
       "    </tr>\n",
       "  </tbody>\n",
       "</table>\n",
       "</div>"
      ],
      "text/plain": [
       "                     mean         std\n",
       "age             11.366460    3.167744\n",
       "dist_cap       147.674452   76.063134\n",
       "dist_sec         2.418910    2.234109\n",
       "fam_n            7.215715    2.352900\n",
       "grc              3.963537    2.499063\n",
       "grc97            3.705372    2.572387\n",
       "hohage          44.436717   11.620372\n",
       "hohedu           2.768104    2.656106\n",
       "hohsex           0.925185    0.263095\n",
       "hohwag         586.985312  788.133664\n",
       "indig            0.298324    0.457525\n",
       "min_dist       103.447520   42.089441\n",
       "sc               0.819818    0.384342\n",
       "sc97             0.813922    0.389172\n",
       "sex              0.512211    0.499854\n",
       "welfare_index  690.346564  139.491130"
      ]
     },
     "execution_count": 16,
     "metadata": {},
     "output_type": "execute_result"
    }
   ],
   "source": [
    "#Take the selected columns and find their mean and standard deviation\n",
    "p_b_df = p_df[['sex','indig','dist_sec','sc','grc','fam_n','min_dist','dist_cap','poor','progresa','hohedu',\n",
    "                             'hohwag','welfare_index','hohsex','hohage','age','grc97','sc97']].describe().T\n",
    "p_b_df = p_b_df[['mean','std']]\n",
    "p_b_df.sort_index(axis=0)"
   ]
  },
  {
   "cell_type": "markdown",
   "metadata": {
    "ein.tags": [
     "worksheet-0"
    ],
    "slideshow": {
     "slide_type": "-"
    }
   },
   "source": [
    "### 1.2 Differences at baseline?\n",
    "\n",
    "Are the baseline (1997) demographic characteristics **for the poor**  different in treatment and control villages? Hint: Use a T-Test to determine whether there is a statistically significant difference in the average values of each of the variables in the dataset. Focus only on the data from 1997 for individuals who are poor (i.e., poor=='pobre').\n",
    "\n",
    "Present your results in a single table with the following columns and 14 (or so) rows:\n",
    "\n",
    "| Variable name | Average value (Treatment villages) | Average value (Control villages) | Difference (Treat - Control) | p-value |\n",
    "|------|------|------|------|------|\n",
    "|Male  |?     |?     |?     |?     |\n"
   ]
  },
  {
   "cell_type": "code",
   "execution_count": 17,
   "metadata": {
    "autoscroll": "json-false",
    "collapsed": false,
    "ein.tags": [
     "worksheet-0"
    ],
    "slideshow": {
     "slide_type": "-"
    }
   },
   "outputs": [
    {
     "data": {
      "text/html": [
       "<div>\n",
       "<table border=\"1\" class=\"dataframe\">\n",
       "  <thead>\n",
       "    <tr style=\"text-align: right;\">\n",
       "      <th></th>\n",
       "      <th>Variable name</th>\n",
       "      <th>Average value (Treatment villages)</th>\n",
       "      <th>Average value (Control villages)</th>\n",
       "      <th>Difference (Treat - Control)</th>\n",
       "      <th>p-value</th>\n",
       "    </tr>\n",
       "  </thead>\n",
       "  <tbody>\n",
       "    <tr>\n",
       "      <th>0</th>\n",
       "      <td>age</td>\n",
       "      <td>10.716991</td>\n",
       "      <td>10.742023</td>\n",
       "      <td>-0.708630</td>\n",
       "      <td>4.785594e-01</td>\n",
       "    </tr>\n",
       "    <tr>\n",
       "      <th>1</th>\n",
       "      <td>dist_cap</td>\n",
       "      <td>150.829074</td>\n",
       "      <td>153.769730</td>\n",
       "      <td>-3.339081</td>\n",
       "      <td>8.415005e-04</td>\n",
       "    </tr>\n",
       "    <tr>\n",
       "      <th>2</th>\n",
       "      <td>dist_sec</td>\n",
       "      <td>2.453122</td>\n",
       "      <td>2.507662</td>\n",
       "      <td>-2.100433</td>\n",
       "      <td>3.569843e-02</td>\n",
       "    </tr>\n",
       "    <tr>\n",
       "      <th>3</th>\n",
       "      <td>fam_n</td>\n",
       "      <td>7.281327</td>\n",
       "      <td>7.302469</td>\n",
       "      <td>-0.794167</td>\n",
       "      <td>4.271039e-01</td>\n",
       "    </tr>\n",
       "    <tr>\n",
       "      <th>4</th>\n",
       "      <td>folnum</td>\n",
       "      <td>19321.168233</td>\n",
       "      <td>19272.844316</td>\n",
       "      <td>0.381131</td>\n",
       "      <td>7.031082e-01</td>\n",
       "    </tr>\n",
       "    <tr>\n",
       "      <th>5</th>\n",
       "      <td>grc</td>\n",
       "      <td>3.531599</td>\n",
       "      <td>3.543050</td>\n",
       "      <td>-0.400196</td>\n",
       "      <td>6.890151e-01</td>\n",
       "    </tr>\n",
       "    <tr>\n",
       "      <th>6</th>\n",
       "      <td>grc97</td>\n",
       "      <td>3.531599</td>\n",
       "      <td>3.543050</td>\n",
       "      <td>-0.400196</td>\n",
       "      <td>6.890151e-01</td>\n",
       "    </tr>\n",
       "    <tr>\n",
       "      <th>7</th>\n",
       "      <td>hohage</td>\n",
       "      <td>43.648828</td>\n",
       "      <td>44.276918</td>\n",
       "      <td>-4.775962</td>\n",
       "      <td>1.796243e-06</td>\n",
       "    </tr>\n",
       "    <tr>\n",
       "      <th>8</th>\n",
       "      <td>hohedu</td>\n",
       "      <td>2.663139</td>\n",
       "      <td>2.590348</td>\n",
       "      <td>2.541229</td>\n",
       "      <td>1.105093e-02</td>\n",
       "    </tr>\n",
       "    <tr>\n",
       "      <th>9</th>\n",
       "      <td>hohwag</td>\n",
       "      <td>544.339544</td>\n",
       "      <td>573.163558</td>\n",
       "      <td>-3.594588</td>\n",
       "      <td>3.253835e-04</td>\n",
       "    </tr>\n",
       "    <tr>\n",
       "      <th>10</th>\n",
       "      <td>indig</td>\n",
       "      <td>0.325986</td>\n",
       "      <td>0.332207</td>\n",
       "      <td>-1.161714</td>\n",
       "      <td>2.453603e-01</td>\n",
       "    </tr>\n",
       "    <tr>\n",
       "      <th>11</th>\n",
       "      <td>min_dist</td>\n",
       "      <td>107.152915</td>\n",
       "      <td>103.237854</td>\n",
       "      <td>8.206584</td>\n",
       "      <td>2.358312e-16</td>\n",
       "    </tr>\n",
       "    <tr>\n",
       "      <th>12</th>\n",
       "      <td>welfare_index</td>\n",
       "      <td>655.428377</td>\n",
       "      <td>659.579100</td>\n",
       "      <td>-3.188594</td>\n",
       "      <td>1.431016e-03</td>\n",
       "    </tr>\n",
       "    <tr>\n",
       "      <th>13</th>\n",
       "      <td>sc</td>\n",
       "      <td>0.822697</td>\n",
       "      <td>0.815186</td>\n",
       "      <td>1.668745</td>\n",
       "      <td>9.517806e-02</td>\n",
       "    </tr>\n",
       "    <tr>\n",
       "      <th>14</th>\n",
       "      <td>sc97</td>\n",
       "      <td>0.822697</td>\n",
       "      <td>0.815186</td>\n",
       "      <td>1.668745</td>\n",
       "      <td>9.517806e-02</td>\n",
       "    </tr>\n",
       "    <tr>\n",
       "      <th>15</th>\n",
       "      <td>sex</td>\n",
       "      <td>0.519317</td>\n",
       "      <td>0.505052</td>\n",
       "      <td>2.506686</td>\n",
       "      <td>1.219172e-02</td>\n",
       "    </tr>\n",
       "  </tbody>\n",
       "</table>\n",
       "</div>"
      ],
      "text/plain": [
       "    Variable name  Average value (Treatment villages)  \\\n",
       "0             age                           10.716991   \n",
       "1        dist_cap                          150.829074   \n",
       "2        dist_sec                            2.453122   \n",
       "3           fam_n                            7.281327   \n",
       "4          folnum                        19321.168233   \n",
       "5             grc                            3.531599   \n",
       "6           grc97                            3.531599   \n",
       "7          hohage                           43.648828   \n",
       "8          hohedu                            2.663139   \n",
       "9          hohwag                          544.339544   \n",
       "10          indig                            0.325986   \n",
       "11       min_dist                          107.152915   \n",
       "12  welfare_index                          655.428377   \n",
       "13             sc                            0.822697   \n",
       "14           sc97                            0.822697   \n",
       "15            sex                            0.519317   \n",
       "\n",
       "    Average value (Control villages)  Difference (Treat - Control)  \\\n",
       "0                          10.742023                     -0.708630   \n",
       "1                         153.769730                     -3.339081   \n",
       "2                           2.507662                     -2.100433   \n",
       "3                           7.302469                     -0.794167   \n",
       "4                       19272.844316                      0.381131   \n",
       "5                           3.543050                     -0.400196   \n",
       "6                           3.543050                     -0.400196   \n",
       "7                          44.276918                     -4.775962   \n",
       "8                           2.590348                      2.541229   \n",
       "9                         573.163558                     -3.594588   \n",
       "10                          0.332207                     -1.161714   \n",
       "11                        103.237854                      8.206584   \n",
       "12                        659.579100                     -3.188594   \n",
       "13                          0.815186                      1.668745   \n",
       "14                          0.815186                      1.668745   \n",
       "15                          0.505052                      2.506686   \n",
       "\n",
       "         p-value  \n",
       "0   4.785594e-01  \n",
       "1   8.415005e-04  \n",
       "2   3.569843e-02  \n",
       "3   4.271039e-01  \n",
       "4   7.031082e-01  \n",
       "5   6.890151e-01  \n",
       "6   6.890151e-01  \n",
       "7   1.796243e-06  \n",
       "8   1.105093e-02  \n",
       "9   3.253835e-04  \n",
       "10  2.453603e-01  \n",
       "11  2.358312e-16  \n",
       "12  1.431016e-03  \n",
       "13  9.517806e-02  \n",
       "14  9.517806e-02  \n",
       "15  1.219172e-02  "
      ]
     },
     "execution_count": 17,
     "metadata": {},
     "output_type": "execute_result"
    }
   ],
   "source": [
    "#First filter the dataset for the year 97 and poor = 'pobre' \n",
    "#Then divide the dataset in Treatment and control using progresa = 'Basal'\n",
    "p_new_df = p_df[(p_df['year']==97) & (p_df['poor']=='pobre')]\n",
    "p_t_df = p_new_df[(p_new_df['progresa']=='basal')]\n",
    "p_c_df = p_new_df[(p_new_df['progresa']!='basal')]\n",
    "\n",
    "#Find the t statistic and p-value for each variable\n",
    "age_t,age_p = stats.ttest_ind(p_t_df['age'].dropna(),p_c_df['age'].dropna())\n",
    "dist_cap_t,dist_cap_p = stats.ttest_ind(p_t_df['dist_cap'].dropna(),p_c_df['dist_cap'].dropna())\n",
    "dist_sec_t,dist_sec_p = stats.ttest_ind(p_t_df['dist_sec'].dropna(),p_c_df['dist_sec'].dropna())\n",
    "fam_n_t,fam_n_p = stats.ttest_ind(p_t_df['fam_n'].dropna(),p_c_df['fam_n'].dropna())\n",
    "grc_t,grc_p = stats.ttest_ind(p_t_df['grc'].dropna(),p_c_df['grc'].dropna())\n",
    "grc97_t,grc97_p = stats.ttest_ind(p_t_df['grc97'].dropna(),p_c_df['grc97'].dropna())\n",
    "hohage_t,hohage_p = stats.ttest_ind(p_t_df['hohage'].dropna(),p_c_df['hohage'].dropna())\n",
    "hohedu_t,hohedu_p = stats.ttest_ind(p_t_df['hohedu'].dropna(),p_c_df['hohedu'].dropna())\n",
    "hohwag_t,hohwag_p = stats.ttest_ind(p_t_df['hohwag'].dropna(),p_c_df['hohwag'].dropna())\n",
    "indig_t,indig_p = stats.ttest_ind(p_t_df['indig'].dropna(),p_c_df['indig'].dropna())\n",
    "min_dist_t, min_dist_p = stats.ttest_ind(p_t_df['min_dist'].dropna(),p_c_df['min_dist'].dropna())\n",
    "windex_t,windex_p = stats.ttest_ind(p_t_df['welfare_index'].dropna(),p_c_df['welfare_index'].dropna())\n",
    "sc_t,sc_p = stats.ttest_ind(p_t_df['sc'].dropna(),p_c_df['sc'].dropna())\n",
    "sc97_t,sc97_p = stats.ttest_ind(p_t_df['sc97'].dropna(),p_c_df['sc97'].dropna())\n",
    "sex_t,sex_p = stats.ttest_ind(p_t_df['sex'].dropna(),p_c_df['sex'].dropna())\n",
    "folnum_t,folnum_p = stats.ttest_ind(p_t_df['folnum'].dropna(),p_c_df['folnum'].dropna())\n",
    "\n",
    "p_t_mean_df=p_t_df[['age','dist_cap','dist_sec','fam_n','folnum','grc','grc97','hohage','hohedu','hohwag','indig','min_dist','welfare_index','sc','sc97','sex']].mean()\n",
    "p_c_mean_df=p_c_df[['age','dist_cap','dist_sec','fam_n','folnum','grc','grc97','hohage','hohedu','hohwag', 'indig','min_dist','welfare_index','sc','sc97','sex']].mean()\n",
    "p_value_ser = pd.Series([age_p, dist_cap_p, dist_sec_p, fam_n_p, folnum_p, grc_p, grc97_p, hohage_p, hohedu_p, hohwag_p, indig_p, min_dist_p,windex_p,sc_p,sc97_p,sex_p])\n",
    "t_value_ser = pd.Series([age_t,dist_cap_t,dist_sec_t,fam_n_t,folnum_t,grc_t,grc97_t,hohage_t,hohedu_t,hohwag_t,indig_t,\n",
    "                         min_dist_t,windex_t,sc_t,sc97_t,sex_t])\n",
    "\n",
    "#Converting into table format for display\n",
    "one_two_df = pd.DataFrame(columns = ['Variable name','Average value (Treatment villages)','Average value (Control villages)',\n",
    "                                     'Difference (Treat - Control)','p-value'])\n",
    "one_two_df['Variable name'] = p_t_mean_df.index\n",
    "one_two_df['Average value (Treatment villages)'] = p_t_mean_df.values\n",
    "one_two_df['Average value (Control villages)'] = p_c_mean_df.values\n",
    "one_two_df['Difference (Treat - Control)'] = t_value_ser\n",
    "one_two_df['p-value']=p_value_ser \n",
    "one_two_df"
   ]
  },
  {
   "cell_type": "markdown",
   "metadata": {
    "ein.tags": [
     "worksheet-0"
    ],
    "slideshow": {
     "slide_type": "-"
    }
   },
   "source": [
    "### 1.3 Interpretation\n",
    "\n",
    "* A: Are there statistically significant differences between treatment and control villages as baseline? \n",
    "* B: Why does it matter if there are differences at baseline?\n",
    "* C: What does this imply about how to measure the impact of the treatment?"
   ]
  },
  {
   "cell_type": "markdown",
   "metadata": {
    "autoscroll": "json-false",
    "collapsed": false,
    "ein.tags": [
     "worksheet-0"
    ],
    "slideshow": {
     "slide_type": "-"
    }
   },
   "source": [
    "Assuming confidence level of 95%, p-value is 0.05.\n",
    "\n",
    "A: It is observed from the data that there is statistical significance for few variables such as dist_cap, dist_sec, hohage, hohedu, hohwag, min_dist and welfare_index. However, it is not significant for the other variables\n",
    "\n",
    "B: The differences at the baseline matter as it indicates that poor randomization technique was used to separate the control and treatment groups. This eventually leads to bias and the result will be a poor indicator of the effectiveness of Progresa program.\n",
    "\n",
    "C: It implies that to get appropriate results on our test, it is important to randomize the samples coorectly into treatment and control groups."
   ]
  },
  {
   "cell_type": "markdown",
   "metadata": {
    "ein.tags": [
     "worksheet-0"
    ],
    "slideshow": {
     "slide_type": "-"
    }
   },
   "source": [
    "### 1.4 Graphical exploration, part 1\n",
    "\n",
    "For each level of household head education, compute the average enrollment rate in 1997. Create a scatterplot that shows this relationship. What do you notice?"
   ]
  },
  {
   "cell_type": "code",
   "execution_count": 18,
   "metadata": {
    "autoscroll": "json-false",
    "collapsed": false,
    "ein.tags": [
     "worksheet-0"
    ],
    "slideshow": {
     "slide_type": "-"
    }
   },
   "outputs": [
    {
     "data": {
      "image/png": "[encoded data removed]",
      "text/plain": [
       "<matplotlib.figure.Figure at 0x262c5777518>"
      ]
     },
     "metadata": {},
     "output_type": "display_data"
    }
   ],
   "source": [
    "#Filter by 97\n",
    "p_gr_df = p_df[(p_df['year']==97)]\n",
    "p_gr_df = p_gr_df[['hohedu','sc']].groupby('hohedu').mean()\n",
    "plt.scatter(p_gr_df.index.values,p_gr_df['sc'])\n",
    "plt.xlabel('Education level of household head (years)')\n",
    "plt.ylabel('Average enrollment rate')\n",
    "plt.title('Avg enrollment rate by level of household head education')\n",
    "plt.show()"
   ]
  },
  {
   "cell_type": "markdown",
   "metadata": {},
   "source": [
    "As per the scatterplot, it can be seen that as the education level of the household head increases, there is increase in the average enrollment rate implying that if the household head is educated, they allow their children to get enrolled at school as they see the benefits of getting an education into the life of their child/children.\n",
    "However, there is a sharp drop in average enrollment rate when the  education level of household head increases from 9 to 10 years, 13 to 14 years and 18 to 20 years."
   ]
  },
  {
   "cell_type": "markdown",
   "metadata": {
    "ein.tags": [
     "worksheet-0"
    ],
    "slideshow": {
     "slide_type": "-"
    }
   },
   "source": [
    "### 1.5 Graphical exploration, part 2\n",
    "\n",
    "Create a histogram of village enrollment rates **among poor households in treated villages**, before and after treatment. Specifically, for each village, calculate the average rate of enrollment of poor households in treated villages in 1997, then compute the average rate of enrollment of poor households in treated villages in 1998. Create two separate histograms showing the distribution of these average enrollments rates, one histogram for 1997 and one histogram for 1998. On each histogram, draw a vertical line that intersects the x-axis at the average value (across all households).\n",
    "* Does there appear to be a difference? Is this difference statistically significant?\n",
    "* Which D estimator in Schultz (2004) does this approach correspond to?"
   ]
  },
  {
   "cell_type": "code",
   "execution_count": 19,
   "metadata": {
    "autoscroll": "json-false",
    "collapsed": false,
    "ein.tags": [
     "worksheet-0"
    ],
    "slideshow": {
     "slide_type": "-"
    }
   },
   "outputs": [
    {
     "data": {
      "image/png": "[encoded data removed]",
      "text/plain": [
       "<matplotlib.figure.Figure at 0x262c5844c18>"
      ]
     },
     "metadata": {},
     "output_type": "display_data"
    },
    {
     "data": {
      "image/png": "[encoded data removed]",
      "text/plain": [
       "<matplotlib.figure.Figure at 0x262c58a0ba8>"
      ]
     },
     "metadata": {},
     "output_type": "display_data"
    },
    {
     "name": "stdout",
     "output_type": "stream",
     "text": [
      "The t test statistic value is: -2.01571348652\n",
      "The p-value is: 0.0442487003657\n"
     ]
    }
   ],
   "source": [
    "#Filter data by year, progresa and poor/non-poor \n",
    "p97_df = p_df[(p_df['progresa']=='basal') & (p_df['poor']=='pobre') & (p_df['year']==97)]\n",
    "p98_df = p_df[(p_df['progresa']=='basal') & (p_df['poor']=='pobre') & (p_df['year']==98)]\n",
    "p97_df = p97_df.groupby('village').mean()\n",
    "p98_df = p98_df.groupby('village').mean()\n",
    "\n",
    "#Plot for year 97\n",
    "plt.hist(p97_df['sc'],color='c')\n",
    "plt.xlabel('Average enrollment rate')\n",
    "plt.ylabel('Frequency')\n",
    "plt.title('Avg enrollment rate in villages in 97')\n",
    "plt.axvline(p97_df['sc'].mean(), color='b', linestyle='dashed', linewidth=2)\n",
    "plt.show()\n",
    "\n",
    "# Plot for year 98\n",
    "plt.hist(p98_df['sc'],color='r')\n",
    "plt.xlabel('Average enrollment rate')\n",
    "plt.ylabel('Frequency')\n",
    "plt.title('Avg enrollment rate in villages in 98')\n",
    "plt.axvline(p98_df['sc'].mean(), color='b', linestyle='dashed', linewidth=2)\n",
    "plt.show()\n",
    "\n",
    "#For statistical significance\n",
    "t,p = stats.ttest_ind(p97_df['sc'].dropna(),p98_df['sc'].dropna())\n",
    "print('The t test statistic value is:',t)\n",
    "print('The p-value is:',p)\n"
   ]
  },
  {
   "cell_type": "markdown",
   "metadata": {},
   "source": [
    "A: The difference between the village enrollment rates among poor households in 97 and 98 is highly significant as the p-value is 0.04 (less than 0.05) and Progresa has had effect on the increase in the enrollment rates.\n",
    "\n",
    "B: It corresponds to the Single Difference Estimator D1 from Schultz"
   ]
  },
  {
   "cell_type": "markdown",
   "metadata": {
    "ein.tags": [
     "worksheet-0"
    ],
    "slideshow": {
     "slide_type": "-"
    }
   },
   "source": [
    "## Part 2: Measuring Impact\n",
    "\n",
    "### 2.1 Simple differences: T-test\n",
    "\n",
    "Start out by estimating the impact of Progresa using \"simple differences.\" Restricting yourself to data from 1998 (after treatment).\n",
    "* calculate the average enrollment rate among **poor** households in the Treatment villages and the average enrollment rate among **poor** households in the control villages.\n",
    "* Which difference estimator in Schultz (2004) does this approach correspond to?\n",
    "* Use a t-test to determine if this difference is statistically significant. What do you conclude?"
   ]
  },
  {
   "cell_type": "code",
   "execution_count": 20,
   "metadata": {
    "autoscroll": "json-false",
    "collapsed": false,
    "ein.tags": [
     "worksheet-0"
    ],
    "slideshow": {
     "slide_type": "-"
    }
   },
   "outputs": [
    {
     "name": "stdout",
     "output_type": "stream",
     "text": [
      "Average enrollment rate in poor household in treatment village in 1998: 0.8464791213954308\n",
      "Average enrollment rate in pool household in control village in 1998: 0.807636956730308\n",
      "Diff in average enrollment rate: 0.0388421646651228\n",
      "T statistic value: 8.35872056742\n",
      "P value: 6.63634444752e-17\n"
     ]
    }
   ],
   "source": [
    "#Filter on year 98 \n",
    "p_98_df = p_df[(p_df['year']==98)]\n",
    "p_98_p_t_df = p_98_df[(p_98_df['progresa']=='basal') & (p_98_df['poor']=='pobre')]\n",
    "p_98_p_c_df = p_98_df[(p_98_df['progresa']!='basal') & (p_98_df['poor']=='pobre')]\n",
    "p_98_p_t_avg = p_98_p_t_df['sc'].dropna().mean()\n",
    "p_98_p_c_avg = p_98_p_c_df['sc'].dropna().mean()\n",
    "print(\"Average enrollment rate in poor household in treatment village in 1998:\", p_98_p_t_avg)\n",
    "print(\"Average enrollment rate in pool household in control village in 1998:\", p_98_p_c_avg)\n",
    "print(\"Diff in average enrollment rate:\", abs(p_98_p_t_avg - p_98_p_c_avg) )\n",
    "#Calculate the t test\n",
    "t98,p98 = stats.ttest_ind(p_98_p_t_df['sc'].dropna(),p_98_p_c_df['sc'].dropna())\n",
    "print (\"T statistic value:\",t98)\n",
    "print(\"P value:\",p98)"
   ]
  },
  {
   "cell_type": "markdown",
   "metadata": {},
   "source": [
    "It corresponds to the Single Difference - Post Program Period Average Estimator\n",
    "The t-test gives a p-value of 6.63 * 10^-17 which is highly significant. From this it can be concluded that there is high impact of the Progresa program in the year 1998 and led to a higher enrollment rate.\n"
   ]
  },
  {
   "cell_type": "markdown",
   "metadata": {
    "ein.tags": [
     "worksheet-0"
    ],
    "slideshow": {
     "slide_type": "-"
    }
   },
   "source": [
    "### 2.2 Simple differences: Regression\n",
    "\n",
    "Estimate the effects of Progresa on enrollment using a regression model, by regressing the 1998 enrollment rates **of the poor** on treatment assignment. Discuss the following:\n",
    "\n",
    "* Based on this model, how much did Progresa increase the likelihood of a child enrolling?\n",
    "* How does your regression estimate compare to your t-test estimate from part 2.1?\n",
    "* Based on this regression model, can we reject the null hypothesis that the treatment effects are zero? \n",
    "* What is the counterfactual assumption underlying this regression?"
   ]
  },
  {
   "cell_type": "code",
   "execution_count": 21,
   "metadata": {
    "autoscroll": "json-false",
    "collapsed": false,
    "ein.tags": [
     "worksheet-0"
    ],
    "scrolled": false,
    "slideshow": {
     "slide_type": "-"
    }
   },
   "outputs": [
    {
     "name": "stderr",
     "output_type": "stream",
     "text": [
      "C:\\Users\\parekhdh\\Anaconda3\\lib\\site-packages\\ipykernel\\__main__.py:3: SettingWithCopyWarning: \n",
      "A value is trying to be set on a copy of a slice from a DataFrame.\n",
      "Try using .loc[row_indexer,col_indexer] = value instead\n",
      "\n",
      "See the caveats in the documentation: http://pandas.pydata.org/pandas-docs/stable/indexing.html#indexing-view-versus-copy\n",
      "  app.launch_new_instance()\n",
      "C:\\Users\\parekhdh\\Anaconda3\\lib\\site-packages\\ipykernel\\__main__.py:4: SettingWithCopyWarning: \n",
      "A value is trying to be set on a copy of a slice from a DataFrame\n",
      "\n",
      "See the caveats in the documentation: http://pandas.pydata.org/pandas-docs/stable/indexing.html#indexing-view-versus-copy\n"
     ]
    },
    {
     "name": "stdout",
     "output_type": "stream",
     "text": [
      "                            OLS Regression Results                            \n",
      "==============================================================================\n",
      "Dep. Variable:                     sc   R-squared:                       0.003\n",
      "Model:                            OLS   Adj. R-squared:                  0.002\n",
      "Method:                 Least Squares   F-statistic:                     65.64\n",
      "Date:                Tue, 02 May 2017   Prob (F-statistic):           5.66e-16\n",
      "Time:                        00:26:10   Log-Likelihood:                -11171.\n",
      "No. Observations:               26155   AIC:                         2.235e+04\n",
      "Df Residuals:                   26153   BIC:                         2.236e+04\n",
      "Df Model:                           1                                         \n",
      "Covariance Type:            nonrobust                                         \n",
      "=================================================================================\n",
      "                    coef    std err          t      P>|t|      [95.0% Conf. Int.]\n",
      "---------------------------------------------------------------------------------\n",
      "Intercept         0.8109      0.004    217.190      0.000         0.804     0.818\n",
      "progresa[T.1]     0.0383      0.005      8.102      0.000         0.029     0.048\n",
      "==============================================================================\n",
      "Omnibus:                     7487.800   Durbin-Watson:                   1.734\n",
      "Prob(Omnibus):                  0.000   Jarque-Bera (JB):            15756.374\n",
      "Skew:                          -1.796   Prob(JB):                         0.00\n",
      "Kurtosis:                       4.245   Cond. No.                         3.02\n",
      "==============================================================================\n",
      "\n",
      "Warnings:\n",
      "[1] Standard Errors assume that the covariance matrix of the errors is correctly specified.\n"
     ]
    }
   ],
   "source": [
    "#Filter by 98\n",
    "p_98_poor = p_98_df[p_98_df['poor']=='pobre']\n",
    "p_98_poor['progresa'] = p_98_poor['progresa'].replace(['basal'],'1')\n",
    "p_98_poor.dropna(inplace=True)\n",
    "y, x = dmatrices('sc ~ progresa',p_98_poor, return_type=\"dataframe\")\n",
    "model=sm.OLS(y,x)\n",
    "res=model.fit()\n",
    "print(res.summary())"
   ]
  },
  {
   "cell_type": "markdown",
   "metadata": {},
   "source": [
    "A. On the basis of this model, Progresa increased the likelihood of enrollment rate of a child in a school increased by 0.0383\n",
    "\n",
    "B. The results obtained via regression and t-test are in sync and the p-value says that it is highly significant.\n",
    "\n",
    "C. Based on the regression model, we can reject the null hypothesis and accept the alternate hypothesis that the treatment effect is non-zero.\n",
    "\n",
    "D. The counterfactual assumption is that in the absence of the Progresa grant, the average enrollment rate in the treatment and control groups remain the same."
   ]
  },
  {
   "cell_type": "markdown",
   "metadata": {
    "ein.tags": [
     "worksheet-0"
    ],
    "slideshow": {
     "slide_type": "-"
    }
   },
   "source": [
    "### 2.3 Multiple Regression\n",
    "\n",
    "Re-run the above regression estimated but this time include a set of control variables. Include, for instance, age, distance to a secondary school, gender, education of household head, indigenous, etc.\n",
    "\n",
    "* How do the controls affect the point estimate of treatment effect?\n",
    "* How do the controls affect the standard error on the treatment effect? \n",
    "* How do you interpret the differences (or similarities) between your estimates of 2.2 and 2.3?"
   ]
  },
  {
   "cell_type": "code",
   "execution_count": 22,
   "metadata": {
    "autoscroll": "json-false",
    "collapsed": false,
    "ein.tags": [
     "worksheet-0"
    ],
    "slideshow": {
     "slide_type": "-"
    }
   },
   "outputs": [
    {
     "name": "stderr",
     "output_type": "stream",
     "text": [
      "C:\\Users\\parekhdh\\Anaconda3\\lib\\site-packages\\ipykernel\\__main__.py:2: SettingWithCopyWarning: \n",
      "A value is trying to be set on a copy of a slice from a DataFrame.\n",
      "Try using .loc[row_indexer,col_indexer] = value instead\n",
      "\n",
      "See the caveats in the documentation: http://pandas.pydata.org/pandas-docs/stable/indexing.html#indexing-view-versus-copy\n",
      "  from ipykernel import kernelapp as app\n"
     ]
    },
    {
     "name": "stdout",
     "output_type": "stream",
     "text": [
      "                            OLS Regression Results                            \n",
      "==============================================================================\n",
      "Dep. Variable:                     sc   R-squared:                       0.263\n",
      "Model:                            OLS   Adj. R-squared:                  0.263\n",
      "Method:                 Least Squares   F-statistic:                     1557.\n",
      "Date:                Tue, 02 May 2017   Prob (F-statistic):               0.00\n",
      "Time:                        00:26:19   Log-Likelihood:                -7208.4\n",
      "No. Observations:               26155   AIC:                         1.443e+04\n",
      "Df Residuals:                   26148   BIC:                         1.449e+04\n",
      "Df Model:                           6                                         \n",
      "Covariance Type:            nonrobust                                         \n",
      "=================================================================================\n",
      "                    coef    std err          t      P>|t|      [95.0% Conf. Int.]\n",
      "---------------------------------------------------------------------------------\n",
      "Intercept         1.5206      0.010    157.308      0.000         1.502     1.539\n",
      "progresa[T.1]     0.0349      0.004      8.590      0.000         0.027     0.043\n",
      "age              -0.0650      0.001    -92.563      0.000        -0.066    -0.064\n",
      "dist_sec         -0.0110      0.001    -11.804      0.000        -0.013    -0.009\n",
      "sex               0.0308      0.004      7.809      0.000         0.023     0.039\n",
      "hohedu            0.0082      0.001     10.346      0.000         0.007     0.010\n",
      "indig             0.0494      0.004     11.684      0.000         0.041     0.058\n",
      "==============================================================================\n",
      "Omnibus:                     3020.420   Durbin-Watson:                   1.718\n",
      "Prob(Omnibus):                  0.000   Jarque-Bera (JB):             4179.881\n",
      "Skew:                          -0.968   Prob(JB):                         0.00\n",
      "Kurtosis:                       3.293   Cond. No.                         61.1\n",
      "==============================================================================\n",
      "\n",
      "Warnings:\n",
      "[1] Standard Errors assume that the covariance matrix of the errors is correctly specified.\n"
     ]
    }
   ],
   "source": [
    "#Adding a set of control variables for multiple regression\n",
    "p_98_poor['sex'] = p_98_poor['sex'].astype(int) \n",
    "y1,x1 = dmatrices('sc ~ progresa + age + dist_sec + sex + hohedu + indig', p_98_poor,return_type= 'dataframe')\n",
    "model1 = sm.OLS(y1,x1)\n",
    "res1 = model1.fit()\n",
    "print(res1.summary())"
   ]
  },
  {
   "cell_type": "markdown",
   "metadata": {},
   "source": [
    "A. Addition of controls to the regression model reduces the coefficient for Progressa by a small margin. It goes from 0.038 to 0.035.\n",
    "\n",
    "B. Addition of controls to the regression model, reduces the standard error by a very small margin. It reduces from 0.05 to 0.04.\n",
    "\n",
    "C. The enrollment rate for the multiple regression model is slightly lower as compared to the single regression model which is mainly caused by the addition of other predictors. Since the effect is very low, it can be deduced that Progresa is the dominant variable in determining the enrollment rate."
   ]
  },
  {
   "cell_type": "markdown",
   "metadata": {
    "ein.tags": [
     "worksheet-0"
    ],
    "slideshow": {
     "slide_type": "-"
    }
   },
   "source": [
    "### 2.4 Difference-in-Difference, version 1 (tabular)\n",
    "\n",
    "Thus far, we have computed the effects of Progresa by estimating the difference in 1998 enrollment rates across villages. An alternative approach would be to compute the treatment effect using a difference-in-differences framework.\n",
    "\n",
    "Begin by estimating the average treatment effects of the program for poor households using data from 1997 and 1998. Specifically, calculate the difference (between 1997 and 1998) in enrollment rates among poor households in treated villages; then compute the difference (between 1997 and 1998) in enrollment rates among poor households in control villages. The difference between these two differences is your estimate.\n",
    "\n",
    "* What is your estimate of the impact, and how does it compare to your earlier (simple difference) results?\n",
    "* What is the counterfactual assumption underlying this estimate? \n"
   ]
  },
  {
   "cell_type": "code",
   "execution_count": 23,
   "metadata": {
    "autoscroll": "json-false",
    "collapsed": false,
    "ein.tags": [
     "worksheet-0"
    ],
    "slideshow": {
     "slide_type": "-"
    }
   },
   "outputs": [
    {
     "name": "stdout",
     "output_type": "stream",
     "text": [
      "Average enrollment rates for poor households in treatment group in 97: 0.8226968874033842\n",
      "Average enrollment rates for poor households in control group in 97: 0.8151860030575845\n",
      "Average enrollment rates for poor households in treatment group in 98: 0.8464791213954308\n",
      "Average enrollment rates for poor households in control group in 98: 0.807636956730308\n",
      "Difference in difference 0.031331280319323085\n"
     ]
    }
   ],
   "source": [
    "#The below dataframe is for poor households in treated villages in 1997\n",
    "p_97_treat_p = p_df[(p_df['year']==97) &(p_df['progresa']=='basal') & (p_df['poor']=='pobre')] \n",
    "#The below dataframe is for poor households in control villages in 1997\n",
    "p_97_control_p = p_df[(p_df['year']==97) &(p_df['progresa']!='basal') & (p_df['poor']=='pobre')]\n",
    "#The below dataframe is for poor households in treated villages in 1998\n",
    "p_98_treat_p = p_df[(p_df['year']==98) &(p_df['progresa']=='basal') & (p_df['poor']=='pobre')]\n",
    "#The below dataframe is for poor households in control villages in 1998\n",
    "p_98_control_p = p_df[(p_df['year']==98) &(p_df['progresa']!='basal') & (p_df['poor']=='pobre')]\n",
    "\n",
    "p_97_treat_p_mean = p_97_treat_p['sc'].mean()\n",
    "p_97_control_p_mean = p_97_control_p['sc'].mean()\n",
    "p_98_treat_p_mean = p_98_treat_p['sc'].mean()\n",
    "p_98_control_p_mean = p_98_control_p['sc'].mean()\n",
    "print('Average enrollment rates for poor households in treatment group in 97:',p_97_treat_p_mean)\n",
    "print('Average enrollment rates for poor households in control group in 97:',p_97_control_p_mean)\n",
    "print('Average enrollment rates for poor households in treatment group in 98:',p_98_treat_p_mean)\n",
    "print('Average enrollment rates for poor households in control group in 98:',p_98_control_p_mean)\n",
    "print('Difference in difference',abs(((p_97_treat_p_mean-p_98_treat_p_mean)-(p_97_control_p_mean-p_98_control_p_mean))))"
   ]
  },
  {
   "cell_type": "markdown",
   "metadata": {},
   "source": [
    "A. Based on the difference in difference results, it is found that the enrollment rate is slightly lesser than that obtained from the simple differences test. It goes from 0.038 to 0.031. This is because in the simple difference estimator, the estimate was found for the year of 1998 across treatment and control groups while in the difference in diffference the estimate is across 1997 and 1998 years and within groups. Hence, difference in  difference gives a better estimate..\n",
    "\n",
    "B. The counterfactual assumption is that in the absence of Progresa grant, the average enrollment rates would be same for both treatment and control groups and also across both the years 1997 and 1998."
   ]
  },
  {
   "cell_type": "markdown",
   "metadata": {
    "ein.tags": [
     "worksheet-0"
    ],
    "slideshow": {
     "slide_type": "-"
    }
   },
   "source": [
    "### 2.5 Difference-in-Difference, version 1 (regression)\n",
    "\n",
    "Now use a regression specification to estimate the average treatment effect of the program (on the poor) in a difference-in-differences framework. Include at least 5 control variables.\n",
    "\n",
    "* What is your estimate of the impact of Progresa? Be very specific in interpreting your coefficients and standard errors, and make sure to specify exactly what units you are measuring and estimating.\n",
    "* How do these estimates of the treatment effect compare to the estimates based on the simple difference?\n",
    "* How do these estimates compare to the difference-in-difference estimates from 2.4 above? What accounts for these differences?\n",
    "* What is the counterfactual assumption underlying this regression? "
   ]
  },
  {
   "cell_type": "code",
   "execution_count": 24,
   "metadata": {
    "autoscroll": "json-false",
    "collapsed": false,
    "ein.tags": [
     "worksheet-0"
    ],
    "slideshow": {
     "slide_type": "-"
    }
   },
   "outputs": [
    {
     "name": "stdout",
     "output_type": "stream",
     "text": [
      "                            OLS Regression Results                            \n",
      "==============================================================================\n",
      "Dep. Variable:                     sc   R-squared:                       0.279\n",
      "Model:                            OLS   Adj. R-squared:                  0.279\n",
      "Method:                 Least Squares   F-statistic:                     2810.\n",
      "Date:                Tue, 02 May 2017   Prob (F-statistic):               0.00\n",
      "Time:                        00:26:30   Log-Likelihood:                -16717.\n",
      "No. Observations:               58165   AIC:                         3.345e+04\n",
      "Df Residuals:                   58156   BIC:                         3.353e+04\n",
      "Df Model:                           8                                         \n",
      "Covariance Type:            nonrobust                                         \n",
      "=================================================================================\n",
      "                    coef    std err          t      P>|t|      [95.0% Conf. Int.]\n",
      "---------------------------------------------------------------------------------\n",
      "Intercept         1.4940      0.006    231.606      0.000         1.481     1.507\n",
      "progresa          0.0043      0.004      1.137      0.256        -0.003     0.012\n",
      "age              -0.0655      0.000   -144.433      0.000        -0.066    -0.065\n",
      "dist_sec         -0.0110      0.001    -17.788      0.000        -0.012    -0.010\n",
      "sex               0.0339      0.003     12.672      0.000         0.029     0.039\n",
      "hohedu            0.0076      0.001     14.110      0.000         0.007     0.009\n",
      "indig             0.0496      0.003     17.304      0.000         0.044     0.055\n",
      "year              0.0270      0.004      6.204      0.000         0.018     0.036\n",
      "year:progresa     0.0314      0.006      5.685      0.000         0.021     0.042\n",
      "==============================================================================\n",
      "Omnibus:                     5523.777   Durbin-Watson:                   1.484\n",
      "Prob(Omnibus):                  0.000   Jarque-Bera (JB):             7269.312\n",
      "Skew:                          -0.864   Prob(JB):                         0.00\n",
      "Kurtosis:                       3.113   Cond. No.                         70.8\n",
      "==============================================================================\n",
      "\n",
      "Warnings:\n",
      "[1] Standard Errors assume that the covariance matrix of the errors is correctly specified.\n"
     ]
    }
   ],
   "source": [
    "#Filter on poor and then estimate enrollment rate\n",
    "p3_df = p_df[p_df['poor']=='pobre']\n",
    "p3_df = p3_df.replace({'year':{97:0,98:1},'progresa':{'basal':1}})\n",
    "p3_df['year'] = p3_df['year'].astype(int)\n",
    "p3_df['progresa'] = p3_df['progresa'].astype(int)\n",
    "p3_df['interact_y_p'] = pd.Series(p3_df['year']*p3_df['progresa'])\n",
    "y2,x2 = dmatrices('sc ~ progresa + age + dist_sec + sex + hohedu + indig + year + year:progresa', p3_df,return_type= 'dataframe')\n",
    "model2 = sm.OLS(y2,x2,missing=\"drop\")\n",
    "res2 = model2.fit()\n",
    "print(res2.summary())"
   ]
  },
  {
   "cell_type": "markdown",
   "metadata": {},
   "source": [
    "A. The estimate of the Progresa in itself is not significant but its effect across the years (interaction variable year:progresa) is 0.0314 which is statistically significant. Also the standard error is 0.06 which is very low which means there is less variation.\n",
    "\n",
    "B. In comparison with the simple difference regression technique, the impact of Progresa across years (interaction variable year:progresa) on enrollment rate has decreased.\n",
    "\n",
    "C. In comparison with the difference in difference method in 2.4, the enrollment rate is similar. This could be due to the additional control factors such as age, sex, dist_sec etc that are added in the 2.4 while here we have are assessing across years (interaction variable).\n",
    "\n",
    "D. The counterfactual assumption underlying this regression is that in the absence of Progresa, enrollment rates in poor households would remain same across years and across treated and control groups."
   ]
  },
  {
   "cell_type": "markdown",
   "metadata": {
    "ein.tags": [
     "worksheet-0"
    ],
    "slideshow": {
     "slide_type": "-"
    }
   },
   "source": [
    "### 2.6 Difference-in-Difference, version 2\n",
    "\n",
    "In the previous problem, you estimated a difference-in-differences model that compared changes in enrollment rates over time across treatment and control villages. An alternative approach would be to compare enrollment rates in 1998 between poor and non-poor across treatment and control villages. \n",
    "\n",
    "* How would we estimate this version of the treatment effects in a regression model? \n",
    "* What is the counterfactual assumption underlying this regression?\n",
    "* How do these treatment effects compare to the estimates above?\n",
    "* Discuss some possible explanations for differences or similarities "
   ]
  },
  {
   "cell_type": "code",
   "execution_count": 25,
   "metadata": {
    "autoscroll": "json-false",
    "collapsed": false,
    "ein.tags": [
     "worksheet-0"
    ],
    "slideshow": {
     "slide_type": "-"
    }
   },
   "outputs": [
    {
     "name": "stdout",
     "output_type": "stream",
     "text": [
      "                            OLS Regression Results                            \n",
      "==============================================================================\n",
      "Dep. Variable:                     sc   R-squared:                       0.269\n",
      "Model:                            OLS   Adj. R-squared:                  0.268\n",
      "Method:                 Least Squares   F-statistic:                     1467.\n",
      "Date:                Tue, 02 May 2017   Prob (F-statistic):               0.00\n",
      "Time:                        00:26:45   Log-Likelihood:                -9335.6\n",
      "No. Observations:               31975   AIC:                         1.869e+04\n",
      "Df Residuals:                   31966   BIC:                         1.876e+04\n",
      "Df Model:                           8                                         \n",
      "Covariance Type:            nonrobust                                         \n",
      "================================================================================\n",
      "                   coef    std err          t      P>|t|      [95.0% Conf. Int.]\n",
      "--------------------------------------------------------------------------------\n",
      "Intercept        1.5423      0.012    133.418      0.000         1.520     1.565\n",
      "progresa         0.0261      0.010      2.680      0.007         0.007     0.045\n",
      "age             -0.0659      0.001   -103.053      0.000        -0.067    -0.065\n",
      "dist_sec        -0.0122      0.001    -14.636      0.000        -0.014    -0.011\n",
      "sex              0.0311      0.004      8.571      0.000         0.024     0.038\n",
      "hohedu           0.0093      0.001     13.414      0.000         0.008     0.011\n",
      "indig            0.0474      0.004     11.797      0.000         0.040     0.055\n",
      "poor            -0.0154      0.008     -1.863      0.063        -0.032     0.001\n",
      "interact_p_p     0.0095      0.011      0.901      0.368        -0.011     0.030\n",
      "==============================================================================\n",
      "Omnibus:                     3219.038   Durbin-Watson:                   1.721\n",
      "Prob(Omnibus):                  0.000   Jarque-Bera (JB):             4302.755\n",
      "Skew:                          -0.897   Prob(JB):                         0.00\n",
      "Kurtosis:                       3.119   Cond. No.                         119.\n",
      "==============================================================================\n",
      "\n",
      "Warnings:\n",
      "[1] Standard Errors assume that the covariance matrix of the errors is correctly specified.\n"
     ]
    }
   ],
   "source": [
    "#Filter on year 98 and calculate enrollment rate over time across treatment and control groups\n",
    "p4_df = p_df[p_df['year']==98]\n",
    "p4_df = p4_df.replace({'poor':{'pobre':'1','no pobre':'0'},'progresa':{'basal':1}})\n",
    "p4_df['poor'] = p4_df['poor'].astype(int)\n",
    "p4_df['progresa'] = p4_df['progresa'].astype(int)\n",
    "p4_df['interact_p_p'] = pd.Series(p4_df['poor']*p4_df['progresa'])\n",
    "p4_df[['poor','progresa','interact_p_p']]\n",
    "y3,x3 = dmatrices('sc ~ progresa + age + dist_sec + sex + hohedu + indig + poor + interact_p_p', p4_df,return_type= 'dataframe')\n",
    "model3 = sm.OLS(y3,x3,missing=\"drop\")\n",
    "res3 = model3.fit()\n",
    "print(res3.summary())"
   ]
  },
  {
   "cell_type": "markdown",
   "metadata": {},
   "source": [
    "A.Through this regression model, we find that the p-value of ineraction variable between progresa and poor is 0.368. This means that it is not statistically significant. Also, there was no difference in enrollment rates between poor and non-poor households due to Progresa.\n",
    "\n",
    "B. The counterfactual assumption is that in absence of Progresa there would be difference in enrollment rates in poor and non-poor households \n",
    "\n",
    "C. In 2.5, the estimate is statistically significant while in 2.6 it is not significant\n",
    "\n",
    "D. In 2.6 we measure the effect of Progresa in the year 1998 across poor and non-poor households. While in 2.5 we find the effect of Progresa on poor housholds across 1997 and 1998. So, to check the effect of Progresa, 2.5 is a better method."
   ]
  },
  {
   "cell_type": "markdown",
   "metadata": {
    "ein.tags": [
     "worksheet-0"
    ],
    "slideshow": {
     "slide_type": "-"
    }
   },
   "source": [
    "### 2.7 Spillover effects (extra credit)\n",
    "\n",
    "Thus far, we have focused on the impact of PROGRESA on poor households. Repeat your analysis in 2.5, using a double-difference regression to estimate the impact of PROGRESA on non-poor households. In other words, compare the difference in enrollments between 1997 and 1998 for non-poor households in treatment villages with the difference in enrollments between 1997 and 1998 for non-poor households in control villages.\n",
    "\n",
    "* A: Describe one or two reasons why PROGRESA might have impacted non-poor households.\n",
    "* B: Do you observe any impacts of PROGRESA on the non-poor?\n",
    "* C: What is the identifying assumption that you are using to estimate the impact of PROGRESA on non-poor households."
   ]
  },
  {
   "cell_type": "code",
   "execution_count": 26,
   "metadata": {
    "autoscroll": "json-false",
    "collapsed": false,
    "ein.tags": [
     "worksheet-0"
    ],
    "scrolled": true,
    "slideshow": {
     "slide_type": "-"
    }
   },
   "outputs": [
    {
     "name": "stdout",
     "output_type": "stream",
     "text": [
      "                            OLS Regression Results                            \n",
      "==============================================================================\n",
      "Dep. Variable:                     sc   R-squared:                       0.284\n",
      "Model:                            OLS   Adj. R-squared:                  0.283\n",
      "Method:                 Least Squares   F-statistic:                     513.2\n",
      "Date:                Tue, 02 May 2017   Prob (F-statistic):               0.00\n",
      "Time:                        00:26:52   Log-Likelihood:                -3700.6\n",
      "No. Observations:               10378   AIC:                             7419.\n",
      "Df Residuals:                   10369   BIC:                             7484.\n",
      "Df Model:                           8                                         \n",
      "Covariance Type:            nonrobust                                         \n",
      "================================================================================\n",
      "                   coef    std err          t      P>|t|      [95.0% Conf. Int.]\n",
      "--------------------------------------------------------------------------------\n",
      "Intercept        1.5405      0.017     91.982      0.000         1.508     1.573\n",
      "progresa         0.0271      0.009      2.911      0.004         0.009     0.045\n",
      "year             0.0380      0.011      3.512      0.000         0.017     0.059\n",
      "age             -0.0683      0.001    -60.075      0.000        -0.071    -0.066\n",
      "interact_y_p    -0.0017      0.014     -0.122      0.903        -0.029     0.026\n",
      "dist_sec        -0.0164      0.002     -9.276      0.000        -0.020    -0.013\n",
      "sex              0.0306      0.007      4.500      0.000         0.017     0.044\n",
      "hohedu           0.0100      0.001      9.305      0.000         0.008     0.012\n",
      "indig            0.0390      0.010      3.834      0.000         0.019     0.059\n",
      "==============================================================================\n",
      "Omnibus:                      846.374   Durbin-Watson:                   1.490\n",
      "Prob(Omnibus):                  0.000   Jarque-Bera (JB):              820.967\n",
      "Skew:                          -0.631   Prob(JB):                    5.36e-179\n",
      "Kurtosis:                       2.448   Cond. No.                         75.0\n",
      "==============================================================================\n",
      "\n",
      "Warnings:\n",
      "[1] Standard Errors assume that the covariance matrix of the errors is correctly specified.\n"
     ]
    }
   ],
   "source": [
    "#Filter for non-poor and estimate the impact of progresa on non-poor households\n",
    "p5_df = p_df[p_df['poor']=='no pobre']\n",
    "p5_df = p5_df.replace({'year':{97:0,98:1},'progresa':{'basal':1}})\n",
    "p5_df['year'] = p5_df['year'].astype(int)\n",
    "p5_df['progresa'] = p5_df['progresa'].astype(int)\n",
    "p5_df['interact_y_p'] = pd.Series(p5_df['year']*p5_df['progresa'])\n",
    "y4,x4 = dmatrices('sc ~ progresa + year  + age + interact_y_p + dist_sec + sex + hohedu + indig', p5_df,return_type= 'dataframe')\n",
    "model4 = sm.OLS(y4,x4,missing=\"drop\")\n",
    "res4 = model4.fit()\n",
    "print(res4.summary())"
   ]
  },
  {
   "cell_type": "markdown",
   "metadata": {},
   "source": [
    "A. Progresa could have impacted non-poor households as they must have realized that Progresa could have positive impact on their children, to maintain their societal status or that getting Progresa grant will just benefit them.\n",
    "\n",
    "B. From the estimates it can be said that the impact of Progresa on non-poor housholds was positive but it is not statistically significant across years. \n",
    "\n",
    "C. The assumption of impact of Progresa on non-poor households is that there is no impact of it on the enrollment rate across 1997 and 1998 as they have enough resources to send their children to school."
   ]
  },
  {
   "cell_type": "markdown",
   "metadata": {},
   "source": []
  },
  {
   "cell_type": "markdown",
   "metadata": {
    "ein.tags": [
     "worksheet-0"
    ],
    "slideshow": {
     "slide_type": "-"
    }
   },
   "source": [
    "### 2.8 Summary\n",
    "\n",
    "Based on all the analysis you have undertaken to date, do you thik that Progresa had a causal impact on the enrollment rates of poor households in Mexico?"
   ]
  },
  {
   "cell_type": "markdown",
   "metadata": {
    "autoscroll": "json-false",
    "collapsed": false,
    "ein.tags": [
     "worksheet-0"
    ],
    "slideshow": {
     "slide_type": "-"
    }
   },
   "source": [
    "As per the analysis done, it can be said that between the treatment and control groups were randomized, their means of enrollment were similar and thus Progresa had a causal impact on the enrollment rates of poor households in Mexico. Also, Progresa has had a positive impact on enrollment in treatment villages and the difference is higher in treatment villages as compared to control villages. There is less effect of other controls on the enrollment rate. The difference in difference method was done by filtering the poor households and comparing them in the treated and control villages over the years of 1997 and 1998 and it was found that this method is a better method to estimate the enrollment rate as compared to the nsimple differences method. Also, the non-poor households were also covered under this experiment to understand the effect of Progresa over them."
   ]
  }
 ],
 "metadata": {
  "kernelspec": {
   "display_name": "Python 3",
   "language": "python",
   "name": "python3"
  },
  "language_info": {
   "codemirror_mode": {
    "name": "ipython",
    "version": 3
   },
   "file_extension": ".py",
   "mimetype": "text/x-python",
   "name": "python",
   "nbconvert_exporter": "python",
   "pygments_lexer": "ipython3",
   "version": "3.6.0"
  },
  "name": "ps2.ipynb"
 },
 "nbformat": 4,
 "nbformat_minor": 2
}

{
 "cells": [
  {
   "cell_type": "markdown",
   "metadata": {
    "ein.tags": [
     "worksheet-0"
    ],
    "slideshow": {
     "slide_type": "-"
    }
   },
   "source": [
    "# Problem Set 3, due May 9th at 3:30pm.\n",
    "\n",
    "### Before You Start\n",
    "\n",
    "Make sure the following libraries load correctly (hit Ctrl-Enter). Note that while you are loading several powerful libraries, including machine learning libraries, the goal of this problem set is to implement several algorithms from scratch. In particular, you should *not* be using any built-in libraries for nearest neighbors, distance metrics, or cross-validation -- your mission is to write those algorithms in Python!\n",
    "\n",
    "*Also note:* For this assignment we are requiring you to use base **matplotlib** - no more Seaborn or other packages. This will help you become familiar with techniques for maintaining fine-grained control over your data visualizations. It will also help our graders, who spent countless hours trying to make various versions import for grading."
   ]
  },
  {
   "cell_type": "code",
   "execution_count": 308,
   "metadata": {
    "autoscroll": "json-false",
    "collapsed": false,
    "ein.tags": [
     "worksheet-0"
    ],
    "slideshow": {
     "slide_type": "-"
    }
   },
   "outputs": [],
   "source": [
    "import IPython\n",
    "import numpy as np\n",
    "import scipy as sp\n",
    "import pandas as pd\n",
    "import matplotlib.pyplot as plt\n",
    "import sklearn\n",
    "import timeit"
   ]
  },
  {
   "cell_type": "markdown",
   "metadata": {
    "ein.tags": [
     "worksheet-0"
    ],
    "slideshow": {
     "slide_type": "-"
    }
   },
   "source": [
    "---\n",
    "\n",
    "## Introduction to the assignment\n",
    "\n",
    "For this assignment, you will be using the [Boston Housing Prices Data Set](http://archive.ics.uci.edu/ml/datasets/Housing).  Please read about the dataset carefully before continuing.  Use the following commands to load the dataset and print some descriptive information\n"
   ]
  },
  {
   "cell_type": "code",
   "execution_count": 309,
   "metadata": {
    "autoscroll": "json-false",
    "collapsed": false,
    "ein.tags": [
     "worksheet-0"
    ],
    "slideshow": {
     "slide_type": "-"
    }
   },
   "outputs": [],
   "source": [
    "from sklearn.datasets import load_boston\n",
    "bdata = load_boston()"
   ]
  },
  {
   "cell_type": "markdown",
   "metadata": {
    "ein.tags": [
     "worksheet-0"
    ],
    "slideshow": {
     "slide_type": "-"
    }
   },
   "source": [
    "The following commands will provide some basic information about the shape of the data:"
   ]
  },
  {
   "cell_type": "code",
   "execution_count": 310,
   "metadata": {
    "autoscroll": "json-false",
    "collapsed": false,
    "ein.tags": [
     "worksheet-0"
    ],
    "slideshow": {
     "slide_type": "-"
    }
   },
   "outputs": [
    {
     "name": "stdout",
     "output_type": "stream",
     "text": [
      "dict_keys(['data', 'target', 'feature_names', 'DESCR'])\n",
      "['CRIM' 'ZN' 'INDUS' 'CHAS' 'NOX' 'RM' 'AGE' 'DIS' 'RAD' 'TAX' 'PTRATIO'\n",
      " 'B' 'LSTAT']\n",
      "(506, 13)\n",
      "(506,)\n"
     ]
    }
   ],
   "source": [
    "print (bdata.keys())\n",
    "print (bdata.feature_names)\n",
    "print (bdata.data.shape)\n",
    "print (bdata.target.shape)\n",
    "# uncomment the following if you want to see a lengthy description of the dataset\n",
    "#print (bdata.DESCR)"
   ]
  },
  {
   "cell_type": "code",
   "execution_count": 311,
   "metadata": {
    "collapsed": true
   },
   "outputs": [],
   "source": [
    "#Convert the data set into a dataframe\n",
    "bdata_df = pd.DataFrame(bdata.data,columns=bdata.feature_names)\n",
    "bdata_df['TARGET'] = bdata.target"
   ]
  },
  {
   "cell_type": "markdown",
   "metadata": {
    "ein.tags": [
     "worksheet-0"
    ],
    "slideshow": {
     "slide_type": "-"
    }
   },
   "source": [
    "---\n",
    "\n",
    "## Part 1: Descriptive analysis\n",
    "\n",
    "The goal of this section is to explore the data and make a few nice\n",
    "visualizations -- before beginning the \"real\" work, we should dig into\n",
    "the data a bit do see what we are dealing with.  If you're new to data visualization, [this guide](http://pubs.aeaweb.org/doi/pdfplus/10.1257/jep.28.1.209) is a good place to start.\n",
    "  \n",
    "\n",
    "### 1.1: Histogram of housing prices\n",
    "\n",
    "Your first task is to make a histogram of 'MEDV' (the median hose\n",
    "                                                  value, your target\n",
    "                                                  variable), and make this graph look pretty by doing the following:\n",
    "\n",
    "1. Add appropriate labels to the x and y axes, make sure to include units\n",
    "2. Change the bin width on the histogram to be $1000\n",
    "3. Remove the axes on the top and right side of the plot window\n",
    "4. Change the color of the bars to be green, and remove the black borders from the bars\n"
   ]
  },
  {
   "cell_type": "code",
   "execution_count": 312,
   "metadata": {
    "autoscroll": "json-false",
    "collapsed": false,
    "ein.tags": [
     "worksheet-0"
    ],
    "slideshow": {
     "slide_type": "-"
    }
   },
   "outputs": [
    {
     "data": {
      "image/png": "[encoded data removed]",
      "text/plain": [
       "<matplotlib.figure.Figure at 0x1779b596b00>"
      ]
     },
     "metadata": {},
     "output_type": "display_data"
    }
   ],
   "source": [
    "#For binwidth =1000, bin = (max() - min()/bindiwdth)\n",
    "fig,ax = plt.subplots()\n",
    "ax.hist(bdata_df.TARGET, color= 'g', bins = 45) \n",
    "ax.set_xlabel('Median Value of owner-occupied homes ($1000)')\n",
    "ax.set_ylabel('Frequency')\n",
    "ax.set_title('Histogram of median value of owner-occupied home')\n",
    "ax.spines['top'].set_visible(False)\n",
    "ax.spines['right'].set_visible(False)\n",
    "plt.show()"
   ]
  },
  {
   "cell_type": "markdown",
   "metadata": {
    "ein.tags": [
     "worksheet-0"
    ],
    "slideshow": {
     "slide_type": "-"
    }
   },
   "source": [
    "### 1.2: Scatter plot of housing prices and crime\n",
    "\n",
    "Use matplotlib to create a scatter plot that shows the relationship\n",
    "between the median value of the home (y-axis) and the per-capita crime\n",
    "rate (x-axis).  Properly label your axes, and make sure that your\n",
    "graphic looks polished and professional.  \n"
   ]
  },
  {
   "cell_type": "code",
   "execution_count": 313,
   "metadata": {
    "autoscroll": "json-false",
    "collapsed": false,
    "ein.tags": [
     "worksheet-0"
    ],
    "slideshow": {
     "slide_type": "-"
    }
   },
   "outputs": [
    {
     "data": {
      "image/png": "[encoded data removed]",
      "text/plain": [
       "<matplotlib.figure.Figure at 0x1779a1e7b38>"
      ]
     },
     "metadata": {},
     "output_type": "display_data"
    }
   ],
   "source": [
    "plt.scatter(y=bdata_df.TARGET,x=bdata_df.CRIM)\n",
    "plt.xlabel('Per-capita crime rate')\n",
    "plt.ylabel('Median Value of the home ($1000)')\n",
    "plt.title('Median value of the home by per-cpita crime rate')\n",
    "plt.show()"
   ]
  },
  {
   "cell_type": "markdown",
   "metadata": {
    "ein.tags": [
     "worksheet-0"
    ],
    "slideshow": {
     "slide_type": "-"
    }
   },
   "source": [
    "### 1.3 Create your own (creative and effective) visualization\n",
    "\n",
    "Use another type of graph or chart to illustrate an interesting pattern in the data.  Be creative in your visualization, and make sure to produce a \"publication-quality\" graph.  Points will be given for useful and creative graphs; points will be deducted for confusing issues like unlabeled axes.  "
   ]
  },
  {
   "cell_type": "code",
   "execution_count": 420,
   "metadata": {
    "autoscroll": "json-false",
    "collapsed": false,
    "ein.tags": [
     "worksheet-0"
    ],
    "slideshow": {
     "slide_type": "-"
    }
   },
   "outputs": [
    {
     "data": {
      "image/png": "[encoded data removed]",
      "text/plain": [
       "<matplotlib.figure.Figure at 0x17799ce1d68>"
      ]
     },
     "metadata": {},
     "output_type": "display_data"
    }
   ],
   "source": [
    "feat = ['CRIM','B','RM','DIST','LSTAT','NOX','PTRATIO','TARGET','ZN','RAD']\n",
    "corr  = bdata_df.corr()\n",
    "fig = plt.figure(figsize=(10,10))\n",
    "ax=fig.add_subplot(111)\n",
    "cax = ax.matshow(corr,vmin=-1,vmax=1)\n",
    "fig.colorbar(cax,fraction=0.046,pad=0.04)\n",
    "ticks=np.arange(0,14,1)\n",
    "ax.set_xticks(ticks)\n",
    "ax.set_yticks(ticks)\n",
    "ax.set_xticklabels(corr)\n",
    "ax.set_yticklabels(corr)\n",
    "plt.show()"
   ]
  },
  {
   "cell_type": "markdown",
   "metadata": {
    "ein.tags": [
     "worksheet-0"
    ],
    "slideshow": {
     "slide_type": "-"
    }
   },
   "source": [
    "---\n",
    "\n",
    "## Part 2: Experimental Setup\n",
    "\n",
    "The goal of the next few sections is to design an experiment to predict the median home value for an instance in the data.\n",
    "\n",
    "### 2.1 Begin by writing a function to compute the Root Mean Squared Error for a list of numbers\n",
    "\n",
    "You can find the sqrt function in the Numpy package. \n",
    "Details of RMSE can be found in Hastie, Tibishrani, Friedman _The\n",
    "Elements of Statistical Learning_, Ch 2.5.  (Available on the web)\n",
    "\n"
   ]
  },
  {
   "cell_type": "code",
   "execution_count": 314,
   "metadata": {
    "autoscroll": "json-false",
    "collapsed": false,
    "ein.tags": [
     "worksheet-0"
    ],
    "slideshow": {
     "slide_type": "-"
    }
   },
   "outputs": [
    {
     "data": {
      "text/plain": [
       "2.0816659994661326"
      ]
     },
     "execution_count": 314,
     "metadata": {},
     "output_type": "execute_result"
    }
   ],
   "source": [
    "\"\"\"\n",
    "Function\n",
    "--------\n",
    "compute_rmse\n",
    "\n",
    "Given two arrays, one of actual values and one of predicted values,\n",
    "compute the Roote Mean Squared Error\n",
    "\n",
    "Parameters\n",
    "----------\n",
    "predictions : array\n",
    "    Array of numerical values corresponding to predictions for each of the N observations\n",
    "\n",
    "yvalues : array\n",
    "    Array of numerical values corresponding to the actual values for each of the N observations\n",
    "\n",
    "Returns\n",
    "-------\n",
    "rmse : int\n",
    "    Root Mean Squared Error of the prediction\n",
    "\n",
    "Example\n",
    "-------\n",
    ">>> print compute_rmse((2,2,3),(0,2,6)\n",
    "2.08\n",
    "\"\"\"\n",
    "# Provide two arrays\n",
    "pred = np.array([2,2,3])\n",
    "obs = np.array([0,2,6])\n",
    "\n",
    "def compute_rmse(pred,obs):\n",
    "    pred = np.array(pred)\n",
    "    obs = np.array(obs)\n",
    "    return np.sqrt(np.mean((pred-obs)**2))\n",
    "\n",
    "compute_rmse(pred,obs)"
   ]
  },
  {
   "cell_type": "markdown",
   "metadata": {
    "ein.tags": [
     "worksheet-0"
    ],
    "slideshow": {
     "slide_type": "-"
    }
   },
   "source": [
    "### 2.2 Divide your data into training and testing datasets\n",
    "\n",
    "\n",
    "Randomly select 66% of the data and put this in a training dataset\n",
    "(call this \"bdata_train\"), and place the remaining 34% in a testing\n",
    "dataset (call this \"bdata_test\").  Please us 'np.random' for random numbers.\n"
   ]
  },
  {
   "cell_type": "code",
   "execution_count": 316,
   "metadata": {
    "autoscroll": "json-false",
    "collapsed": false,
    "ein.tags": [
     "worksheet-0"
    ],
    "slideshow": {
     "slide_type": "-"
    }
   },
   "outputs": [],
   "source": [
    "# leave the following line untouched, it will help ensure that your \"random\" split is the same \"random\" split used by the rest of the class\n",
    "np.random.seed(seed=13579)\n",
    "#66% of total number of records in df = 333 (floor)\n",
    "#index=np.random.permutation(bdata_df.shape[0])\n",
    "#train_index,test_index = index[:333],index[333:]\n",
    "#bdata_train = bdata_df.ix[train_index,:].reset_index()\n",
    "#bdata_test = bdata_df.ix[test_index,:].reset_index()\n",
    "index = np.random.choice(len(bdata.data), round(bdata.data.shape[0]*0.66), replace=False)\n",
    "bdata_train = bdata_df.iloc[index,:]\n",
    "bdata_test = bdata_df.iloc[~(bdata_df.index.isin(index)),:]"
   ]
  },
  {
   "cell_type": "markdown",
   "metadata": {
    "ein.tags": [
     "worksheet-0"
    ],
    "slideshow": {
     "slide_type": "-"
    }
   },
   "source": [
    "### 2.3 Use a trivial baseline model for prediction, and compute RMSE\n",
    "Create a model that predicts, for every observation x_i, that the median home value is the average (mean) of the median values for all instances in the training set.  Compute the RMSE on the training set.  Now compute the RMSE on the test data set (but use the model you trained on the training set!).  How does RMSE compare for training vs. testing datasets? Is this what you expected, and why?"
   ]
  },
  {
   "cell_type": "code",
   "execution_count": 317,
   "metadata": {
    "autoscroll": "json-false",
    "collapsed": false,
    "ein.tags": [
     "worksheet-0"
    ],
    "slideshow": {
     "slide_type": "-"
    }
   },
   "outputs": [
    {
     "name": "stdout",
     "output_type": "stream",
     "text": [
      "The RMSE value for training data set: 8.57443441541\n",
      "The RMSE value for test data set: 10.3092622563\n"
     ]
    }
   ],
   "source": [
    "mean_train_value = bdata_train['TARGET'].mean()\n",
    "#mean_train_value\n",
    "mean_train_array = np.repeat(mean_train_value,len(bdata_train))\n",
    "rmse_train = compute_rmse(mean_train_array,bdata_train['TARGET'])\n",
    "print('The RMSE value for training data set:',rmse_train)\n",
    "#mean_test_value\n",
    "rmse_test = compute_rmse(mean_train_array[:len(bdata_test)],bdata_test['TARGET'])\n",
    "print('The RMSE value for test data set:',rmse_test)"
   ]
  },
  {
   "cell_type": "markdown",
   "metadata": {},
   "source": [
    "RMSE values for training data set is lower as compared to test data set. This means that the model is trying to overfit the data."
   ]
  },
  {
   "cell_type": "markdown",
   "metadata": {
    "ein.tags": [
     "worksheet-0"
    ],
    "slideshow": {
     "slide_type": "-"
    }
   },
   "source": [
    "\n"
   ]
  },
  {
   "cell_type": "markdown",
   "metadata": {
    "ein.tags": [
     "worksheet-0"
    ],
    "slideshow": {
     "slide_type": "-"
    }
   },
   "source": [
    "##Part 3: Nearest Neighbors\n"
   ]
  },
  {
   "cell_type": "markdown",
   "metadata": {
    "ein.tags": [
     "worksheet-0"
    ],
    "slideshow": {
     "slide_type": "-"
    }
   },
   "source": [
    "### 3.1 Nearest Neighbors: Distance function\n",
    "Let's try and build a machine learning algorithm to beat the \"Average\n",
    "Value\" baseline that you computed above.  Soon you will implement the\n",
    "Nearest Neighbor algorithm, but first you need to create a distance\n",
    "metric to measure the distance (and similarity) between two instances.\n",
    "Write a generic function to compute the Lp-Norm distance. Verify that\n",
    "your function works by computing the L-2 (Euclidean) distance and L-1 (Manhattan) distance between the points (3,4) and (6,8), and between (6,8) and (3,4).  Ensure that your distance is correct and positive in both cases!\n"
   ]
  },
  {
   "cell_type": "code",
   "execution_count": 318,
   "metadata": {
    "autoscroll": "json-false",
    "collapsed": false,
    "ein.tags": [
     "worksheet-0"
    ],
    "slideshow": {
     "slide_type": "-"
    }
   },
   "outputs": [
    {
     "data": {
      "text/plain": [
       "5.3851648071345037"
      ]
     },
     "execution_count": 318,
     "metadata": {},
     "output_type": "execute_result"
    }
   ],
   "source": [
    "\"\"\"\n",
    "Function\n",
    "--------\n",
    "distance\n",
    "\n",
    "Given two instances and a value for L, return the L-Norm distance between them\n",
    "\n",
    "Parameters\n",
    "----------\n",
    "x1, x2 : array\n",
    "    Array of numerical values corresponding to predictions for each of the N observations\n",
    "\n",
    "L: int\n",
    "    Value of L to use in computing distances\n",
    "\n",
    "Returns\n",
    "-------\n",
    "dist : int\n",
    "    The L-norm distance between instances\n",
    "\n",
    "Example\n",
    "-------\n",
    ">>> print distance((3,4),(5,9),1)\n",
    "7\n",
    "\n",
    "\"\"\"\n",
    "# choice 1 is Manhattan distance, choice 2 is Euclidean distance\n",
    "def lp_dist(x1,x2,choice):\n",
    "    if choice == 1:\n",
    "        return abs(sum(x1-x2))\n",
    "    if choice == 2:\n",
    "        return np.sqrt(sum((x1-x2)**2))\n",
    "\n",
    "x1 = np.array([3,4])\n",
    "x2 = np.array([5,9])\n",
    "lp_dist(x1,x2,2)"
   ]
  },
  {
   "cell_type": "markdown",
   "metadata": {
    "ein.tags": [
     "worksheet-0"
    ],
    "slideshow": {
     "slide_type": "-"
    }
   },
   "source": [
    "### 3.2 Basic Nearest Neighbor algorithm\n",
    "\n",
    "Now things get fun.  Your task is to implement a basic nearest neighbor algorithm from scratch.  Your simple model will use two input features (CRIM and RM) and a single output (MEDV).  In other words, you are modelling the relationship between median home value and crime rates and house size.\n",
    "\n",
    "Use your training data (bdata_train) to \"fit\" your model, although as\n",
    "you know, with Nearest Neighbors there is no real training, you just\n",
    "need to keep your training data in memory.  Write a function that\n",
    "predicts, for each instance in the testing data (bdata_test), the\n",
    "median home value using the nearest neighbor algorithm we discussed in\n",
    "class.  Since this is a small dataset, you can simply compare your\n",
    "test instance to every instance in the training set, and return the\n",
    "MEDV value of the closest training instance.  You can just loop over\n",
    "the instances to find the nearest neighbor.  Have your function take L as an input, where L is passed to the distance function.\n",
    "\n",
    "Compute the RMSE for the Nearest Neighbor predictions on the test set, using the Euclidean distance.  Report an estimate of the total time taken by your code to predict the nearest neighbors for all the values in the test data set.\n",
    "\n",
    "Plot the true vs predicted price for your test data\n"
   ]
  },
  {
   "cell_type": "code",
   "execution_count": 319,
   "metadata": {
    "collapsed": false
   },
   "outputs": [],
   "source": [
    "test_matrix = bdata_test.as_matrix(('CRIM','RM','TARGET'))\n",
    "train_matrix = bdata_train.as_matrix(('CRIM','RM','TARGET'))"
   ]
  },
  {
   "cell_type": "code",
   "execution_count": 368,
   "metadata": {
    "collapsed": false
   },
   "outputs": [],
   "source": [
    "def nearest_neighbor(test_matrix,train_matrix,choice): \n",
    "    row_num, col_num = train_matrix.shape\n",
    "    pred = []\n",
    "    for i in range(len(test_matrix)):\n",
    "        dist=[]\n",
    "        for j in range(len(train_matrix)):\n",
    "            dist.append((j,lp_dist(test_matrix[i],train_matrix[j,:col_num-1],choice)))\n",
    "        dist = sorted(dist, key=lambda x: x[1])\n",
    "        #below lines added for k neighbors\n",
    "        #top_k_nearest = dist[:k]\n",
    "        #index = [top_k_nearest[j][0] for j in range(k)]\n",
    "        index=dist[0][0]\n",
    "        #end of k neighbors changes\n",
    "        pred.append(train_matrix[index,col_num-1])\n",
    "    return pred  \n",
    "        #pred6 = train_matrix[index,col_num-1]\n",
    "    #return np.mean(pred6)"
   ]
  },
  {
   "cell_type": "code",
   "execution_count": 369,
   "metadata": {
    "collapsed": true
   },
   "outputs": [],
   "source": [
    "pred = nearest_neighbor(test_matrix[:,:2],train_matrix[:,:],2)"
   ]
  },
  {
   "cell_type": "code",
   "execution_count": 370,
   "metadata": {
    "collapsed": false
   },
   "outputs": [
    {
     "name": "stdout",
     "output_type": "stream",
     "text": [
      "RMSE: 7.40172041598\n",
      "Total time of execution (in seconds) : 0.000786846660048468\n"
     ]
    }
   ],
   "source": [
    "start_time = timeit.default_timer()\n",
    "print (\"RMSE:\",compute_rmse(pred,test_matrix[:,2]))\n",
    "elapsed = timeit.default_timer() - start_time\n",
    "print ('Total time of execution (in seconds) : {0}'.format(elapsed))"
   ]
  },
  {
   "cell_type": "code",
   "execution_count": 324,
   "metadata": {
    "collapsed": false
   },
   "outputs": [
    {
     "data": {
      "image/png": "[encoded data removed]",
      "text/plain": [
       "<matplotlib.figure.Figure at 0x1779b26cfd0>"
      ]
     },
     "metadata": {},
     "output_type": "display_data"
    }
   ],
   "source": [
    "plt.scatter(x=pred,y=test_matrix[:,2])\n",
    "plt.xlabel('Observed value of Median House Value')\n",
    "plt.ylabel('Predicted value of Median House Value')\n",
    "plt.title('Trend of Predicted vs Observed value of Median HOuse Value')\n",
    "plt.show()"
   ]
  },
  {
   "cell_type": "markdown",
   "metadata": {
    "ein.tags": [
     "worksheet-0"
    ],
    "slideshow": {
     "slide_type": "-"
    }
   },
   "source": [
    "### 3.3 Results and Normalization\n",
    "\n",
    "If you were being astute, you would have noticed that we never normalized our features -- a big no-no with Nearest Neighbor algorithms.  Normalization is similar to Mahalanobis disctance (if the features are independent).  Read more in Daume (2017), _A Course in Machine Learning_ Chapter 4.3.  Write a simple generic normalization function that takes as input an array of values for a given feature, and returns the normalized array.  Do it well, you will need it in the future as well ;-)\n",
    "\n",
    "Re-run the Nearest Neighbor algorithm on the normalized dataset (still just using CRIM and RM as input), and compare the RMSE from this method with your previous RMSE evaluations.\n",
    "\n",
    "*NOTE*: To normalize properly, best practice is to compute the mean and standard deviation on the training set, and use these values to normalize the testing dataset. However, for this problem set, it is okay if you separately normalize each dataset using the respective mean and standard deviation."
   ]
  },
  {
   "cell_type": "code",
   "execution_count": 325,
   "metadata": {
    "autoscroll": "json-false",
    "collapsed": false,
    "ein.tags": [
     "worksheet-0"
    ],
    "slideshow": {
     "slide_type": "-"
    }
   },
   "outputs": [],
   "source": [
    "\"\"\"\n",
    "# write your function specification here!\n",
    "\"\"\"\n",
    "def norm(x):\n",
    "    row_num, col_num =  x.shape\n",
    "    for i in range(col_num - 1):\n",
    "        mean = np.mean(x[:,i])\n",
    "        std = np.std(x[:,i])\n",
    "        x[:,i] = (x[:,i]-mean)/std\n",
    "    return x"
   ]
  },
  {
   "cell_type": "code",
   "execution_count": 326,
   "metadata": {
    "collapsed": false
   },
   "outputs": [],
   "source": [
    "norm_train_matrix = bdata_train.as_matrix(columns=('CRIM','RM','TARGET'))\n",
    "norm_test_matrix = bdata_test.as_matrix(columns=('CRIM','RM','TARGET'))\n",
    "norm_train_data = norm(norm_train_matrix)\n",
    "norm_test_data = norm(norm_test_matrix)"
   ]
  },
  {
   "cell_type": "code",
   "execution_count": 327,
   "metadata": {
    "collapsed": false
   },
   "outputs": [],
   "source": [
    "#Call the nearest neighbor function to calculate the predicted value\n",
    "norm_pred = nearest_neighbor(norm_test_data[:,:2],norm_train_data[:,:],2)"
   ]
  },
  {
   "cell_type": "code",
   "execution_count": 328,
   "metadata": {
    "collapsed": false
   },
   "outputs": [
    {
     "data": {
      "text/plain": [
       "7.6927555773008294"
      ]
     },
     "execution_count": 328,
     "metadata": {},
     "output_type": "execute_result"
    }
   ],
   "source": [
    "compute_rmse(norm_pred,norm_test_data[:,2])"
   ]
  },
  {
   "cell_type": "markdown",
   "metadata": {},
   "source": [
    "The RMSE value found in this is greater than the RMSE value found in the previous model. This should generally not happen as normalization reduces the RMSE."
   ]
  },
  {
   "cell_type": "markdown",
   "metadata": {
    "ein.tags": [
     "worksheet-0"
    ],
    "slideshow": {
     "slide_type": "-"
    }
   },
   "source": [
    "### 3.4 Optimization\n",
    "\n",
    "\n",
    "A lot of the decisions we've made so far have been arbitrary.  Try to increase the performance of your nearest neighbor algorithm by adding features that you think might be relevant, and by using different values of L in the distance function.  Try a model that uses a different set of 2 features, then try at least one model that uses more than 4 features, then try using a different value of L.  If you're having fun, try a few different combinations of features and L!  \n",
    "\n",
    "What combination of features and distance function provide the lowest RMSE?  Compre RMSEs with the corresponding true-predicted plots.\n",
    "\n",
    "Do your decisions affect the running time of the algorithm?"
   ]
  },
  {
   "cell_type": "code",
   "execution_count": 329,
   "metadata": {
    "autoscroll": "json-false",
    "collapsed": false,
    "ein.tags": [
     "worksheet-0"
    ],
    "slideshow": {
     "slide_type": "-"
    }
   },
   "outputs": [
    {
     "name": "stdout",
     "output_type": "stream",
     "text": [
      "RMSE: 6.91123958188\n",
      "Total time of execution (in seconds) : 0.0005212859105085954\n"
     ]
    }
   ],
   "source": [
    "'''\n",
    "6 - AGE      proportion of owner-occupied units built prior to 1940\n",
    "11 - B        1000(Bk - 0.63)^2 where Bk is the proportion of blacks by town\n",
    "9 - TAX      full-value property-tax rate per $10,000\n",
    "3 - CHAS     Charles River dummy variable (= 1 if tract bounds river; 0 otherwise)\n",
    "5 - NOX      nitric oxides concentration (parts per 10 million)\n",
    "'''\n",
    "#With 4 variables\n",
    "new_test_matrix = bdata_test.as_matrix(columns=('CRIM','B','RM','DIS','TARGET'))\n",
    "new_train_matrix = bdata_train.as_matrix(columns=('CRIM','B','RM','DIS','TARGET'))\n",
    "new_norm_test_matrix = norm(new_test_matrix)\n",
    "new_norm_train_matrix = norm(new_train_matrix)\n",
    "pred1 = nearest_neighbor(new_norm_test_matrix[:,:4],new_norm_train_matrix[:,:],2)\n",
    "start_time1 = timeit.default_timer()\n",
    "print (\"RMSE:\",compute_rmse(pred1,new_test_matrix[:,4]))\n",
    "elapsed1 = timeit.default_timer() - start_time1\n",
    "print ('Total time of execution (in seconds) : {0}'.format(elapsed1))"
   ]
  },
  {
   "cell_type": "code",
   "execution_count": 330,
   "metadata": {
    "collapsed": false
   },
   "outputs": [
    {
     "name": "stdout",
     "output_type": "stream",
     "text": [
      "RMSE: 7.36511655444\n",
      "Total time of execution (in seconds) : 0.0004892133583780378\n"
     ]
    }
   ],
   "source": [
    "#With other 2 variables\n",
    "new1_test_matrix = bdata_test.as_matrix(columns=('B','LSTAT','TARGET'))\n",
    "new1_train_matrix = bdata_train.as_matrix(columns=('B','LSTAT','TARGET'))\n",
    "new1_norm_test_matrix = norm(new1_test_matrix)\n",
    "new1_norm_train_matrix = norm(new1_train_matrix)\n",
    "\n",
    "pred2 = nearest_neighbor(new1_norm_test_matrix[:,:2],new1_norm_train_matrix[:,:],2)\n",
    "\n",
    "start_time2 = timeit.default_timer()\n",
    "print (\"RMSE:\",compute_rmse(pred2,new1_test_matrix[:,2]))\n",
    "elapsed2 = timeit.default_timer() - start_time2\n",
    "print ('Total time of execution (in seconds) : {0}'.format(elapsed2))"
   ]
  },
  {
   "cell_type": "markdown",
   "metadata": {},
   "source": [
    "From the various models executed, it was found that the least RMSE is for the combination of CRIM and RM. Other models when implemented give a higher RMSE. Also, addition of features can increase or decrease the RMSE of the model. "
   ]
  },
  {
   "cell_type": "markdown",
   "metadata": {
    "ein.tags": [
     "worksheet-0"
    ],
    "slideshow": {
     "slide_type": "-"
    }
   },
   "source": [
    "### 3.5 Cross-Validation\n",
    "\n",
    "The more you tinkered with your features and distance function, the higher the risk that you overfit your training data.  To prevent this sort of overfitting, you need to use cross-validation (see Daume (2017) _A Course in Machine Learning_, Ch 4.6).  Here you must implement a simple k-fold cross-validation algorithm yourself.  Essentially you have to partition your dataset into 10 equally-sized samples, and for each of 10 iterations (the \"folds\"), use 9 samples as \"training data\" (even though there is no training in k-NN!), and the remaining 1 sample for testing.  The function you write here will be used several more times in this problem set, so do your best to write efficient code! (Note that the sklearn package has a built-in K-fold iterator -- do *not* use that here.)\n",
    "\n",
    "Use Euclidean distance with CRIM and RM (0 and 5) as features.  Compute the RMSE of that particular test set, then move on to the next iteration.  Report the average RMSE across the 10 iterations, and the total running time for all 10 iterations.  Compare the k-fold RMSE with the training-testing split RMSE above for the same hyperparameter values."
   ]
  },
  {
   "cell_type": "code",
   "execution_count": 424,
   "metadata": {
    "autoscroll": "json-false",
    "collapsed": false,
    "ein.tags": [
     "worksheet-0"
    ],
    "slideshow": {
     "slide_type": "-"
    }
   },
   "outputs": [],
   "source": [
    "def k_cross_validation(data,features,fold,k,choice):\n",
    "    \n",
    "    #Set the features\n",
    "    features = features + ['TARGET']\n",
    "    tot_data = bdata_df[features]\n",
    "    len_features = len(features)\n",
    "    \n",
    "    #Initialize the index variables\n",
    "    tot_index = list(tot_data.index)\n",
    "    #np.random.seed(13575)\n",
    "    np.random.shuffle(tot_index)\n",
    "    rem = []\n",
    "    partition = int(len(tot_index)/fold)\n",
    "    remainder = []\n",
    "    rmse_list = []\n",
    "    \n",
    "    #Setting the indexes for the K fold cross validation\n",
    "    for i in range(1,fold+1):\n",
    "        #set the test index for each partition\n",
    "        test = tot_index[(i-1)*partition:i*partition]\n",
    "        #select the data based on the above test index and normalize the data\n",
    "        test_data = norm(tot_data.iloc[test].as_matrix())\n",
    "        #the remainder stores the test indexes already used\n",
    "        remainder = remainder + test\n",
    "        #rem will store the current value which is present in remainder but not in test\n",
    "        rem = set(remainder) ^ set(test)\n",
    "        #train will be the total minus the current test indices\n",
    "        train = list(rem) + tot_index[i*partition:]\n",
    "        #select the train data on the above train index and normalize the data\n",
    "        train_data = norm(tot_data.iloc[train].as_matrix())\n",
    "        print('Iteration number:',i,'Test index start:', (i-1)*partition)\n",
    "        \n",
    "        #Call the nearest neighbor function\n",
    "        if k == 1:\n",
    "            pred3 = nearest_neighbor(test_data[:,:len_features-1],train_data[:,:],choice)\n",
    "        else:\n",
    "            pred3 = k_nearest_neighbor(test_data[:,:len_features-1],train_data[:,:],k,choice)\n",
    "        #   print(pred3)\n",
    "        #calculate the rmse value\n",
    "        rmse_value = compute_rmse(pred3,test_data[:,len_features-1])\n",
    "        rmse_list.append(rmse_value)\n",
    "        print('RMSE:',rmse_value)\n",
    "    average = np.mean(rmse_list)    \n",
    "    print('Avg RMSE:',average)\n",
    "    return average"
   ]
  },
  {
   "cell_type": "code",
   "execution_count": 425,
   "metadata": {
    "collapsed": false
   },
   "outputs": [
    {
     "name": "stdout",
     "output_type": "stream",
     "text": [
      "Iteration number: 1 Test index start: 0\n",
      "RMSE: 7.85816772537\n",
      "Iteration number: 2 Test index start: 50\n",
      "RMSE: 7.65427984856\n",
      "Iteration number: 3 Test index start: 100\n",
      "RMSE: 7.81739086908\n",
      "Iteration number: 4 Test index start: 150\n",
      "RMSE: 8.17919311424\n",
      "Iteration number: 5 Test index start: 200\n",
      "RMSE: 7.52712428488\n",
      "Iteration number: 6 Test index start: 250\n",
      "RMSE: 5.4198339458\n",
      "Iteration number: 7 Test index start: 300\n",
      "RMSE: 6.59613523209\n",
      "Iteration number: 8 Test index start: 350\n",
      "RMSE: 8.36428120044\n",
      "Iteration number: 9 Test index start: 400\n",
      "RMSE: 7.44502518465\n",
      "Iteration number: 10 Test index start: 450\n",
      "RMSE: 7.15238421787\n",
      "Avg RMSE: 7.4013815623\n",
      "Total time of execution (in seconds) : 4.361343078828213\n"
     ]
    }
   ],
   "source": [
    "#Explicitly mention all the features except the target feature\n",
    "#Format - data,features, number of folds, K, choice to select the distance (1: Manhattan, 2:Euclidean)\n",
    "start_time = timeit.default_timer()\n",
    "rmse_list_values = k_cross_validation(tot_data,['CRIM','RM'],10,1,2)\n",
    "elapsed = timeit.default_timer() - start_time\n",
    "print ('Total time of execution (in seconds) : {0}'.format(elapsed))"
   ]
  },
  {
   "cell_type": "markdown",
   "metadata": {},
   "source": [
    "The average RMSE value for the cross-validation is slightly lower as compared to the one performed in 3.4. This is good as cross-validation should decrease the RMSE."
   ]
  },
  {
   "cell_type": "markdown",
   "metadata": {
    "ein.tags": [
     "worksheet-0"
    ],
    "slideshow": {
     "slide_type": "-"
    }
   },
   "source": [
    "### 3.6 K-Nearest Neighbors Algorithm\n",
    "\n",
    "Implement the K-Nearest Neighbors algorithm.  Using 10-fold cross validation, report the RMSE for K=3 and the running time of the algorithm."
   ]
  },
  {
   "cell_type": "code",
   "execution_count": 426,
   "metadata": {
    "autoscroll": "json-false",
    "collapsed": false,
    "ein.tags": [
     "worksheet-0"
    ],
    "slideshow": {
     "slide_type": "-"
    }
   },
   "outputs": [],
   "source": [
    "def k_nearest_neighbor(test_matrix,train_matrix,k,choice):\n",
    "    row_num, col_num = train_matrix.shape\n",
    "    pred = []\n",
    "    for i in range(len(test_matrix)):\n",
    "        dist=[]\n",
    "        for j in range(len(train_matrix)):\n",
    "            dist.append((j,lp_dist(test_matrix[i],train_matrix[j,:col_num-1],choice)))\n",
    "        dist = sorted(dist, key=lambda x: x[1])\n",
    "        top_k_nearest = dist[:k]\n",
    "        index = [top_k_nearest[j][0] for j in range(k)]\n",
    "        pred6 = train_matrix[index,col_num-1]    \n",
    "    return np.mean(pred6)"
   ]
  },
  {
   "cell_type": "code",
   "execution_count": 427,
   "metadata": {
    "collapsed": false
   },
   "outputs": [
    {
     "name": "stdout",
     "output_type": "stream",
     "text": [
      "Iteration number: 1 Test index start: 0\n",
      "RMSE: 9.31692247711\n",
      "Iteration number: 2 Test index start: 50\n",
      "RMSE: 11.2734752603\n",
      "Iteration number: 3 Test index start: 100\n",
      "RMSE: 10.8025089678\n",
      "Iteration number: 4 Test index start: 150\n",
      "RMSE: 10.8253498789\n",
      "Iteration number: 5 Test index start: 200\n",
      "RMSE: 13.4287452876\n",
      "Iteration number: 6 Test index start: 250\n",
      "RMSE: 11.0175637557\n",
      "Iteration number: 7 Test index start: 300\n",
      "RMSE: 16.7659211233\n",
      "Iteration number: 8 Test index start: 350\n",
      "RMSE: 11.1068897537\n",
      "Iteration number: 9 Test index start: 400\n",
      "RMSE: 8.87686756563\n",
      "Iteration number: 10 Test index start: 450\n",
      "RMSE: 19.2610280099\n",
      "Avg RMSE: 12.267527208\n"
     ]
    }
   ],
   "source": [
    "#Explicitly mention all the features except the target feature\n",
    "#Format - data,features, number of folds, K, choice to select the distance (1: Manhattan, 2:Euclidean)\n",
    "rmse_list_values = k_cross_validation(tot_data,['CRIM','RM'],10,3,2)"
   ]
  },
  {
   "cell_type": "markdown",
   "metadata": {
    "ein.tags": [
     "worksheet-0"
    ],
    "slideshow": {
     "slide_type": "-"
    }
   },
   "source": [
    "### 3.7 Using cross validation to find K\n",
    "\n",
    "What is the best choice of K?  Compute the RMSE for values of K between 1 and 25 using 10-fold cross-validation.  Use the following features in your model, and don't forget to normalize: CRIM, ZN, RM, AGE, DIS, TAX.  Create a graph that shows how RMSE changes as K increases from 1 to 25.  Label your axes, and summarize what you see.  What do you think is a reasonable choice of K for this model?"
   ]
  },
  {
   "cell_type": "code",
   "execution_count": 429,
   "metadata": {
    "autoscroll": "json-false",
    "collapsed": false,
    "ein.tags": [
     "worksheet-0"
    ],
    "slideshow": {
     "slide_type": "-"
    }
   },
   "outputs": [
    {
     "name": "stdout",
     "output_type": "stream",
     "text": [
      "1 Nearest Neighbor\n",
      "Iteration number: 1 Test index start: 0\n",
      "RMSE: 7.58544659199\n",
      "Iteration number: 2 Test index start: 50\n",
      "RMSE: 6.48680198557\n",
      "Iteration number: 3 Test index start: 100\n",
      "RMSE: 6.83071006558\n",
      "Iteration number: 4 Test index start: 150\n",
      "RMSE: 5.61859413021\n",
      "Iteration number: 5 Test index start: 200\n",
      "RMSE: 7.90632658066\n",
      "Iteration number: 6 Test index start: 250\n",
      "RMSE: 7.72793633514\n",
      "Iteration number: 7 Test index start: 300\n",
      "RMSE: 4.95796329151\n",
      "Iteration number: 8 Test index start: 350\n",
      "RMSE: 9.19540102443\n",
      "Iteration number: 9 Test index start: 400\n",
      "RMSE: 8.62175156218\n",
      "Iteration number: 10 Test index start: 450\n",
      "RMSE: 6.03595891305\n",
      "Avg RMSE: 7.09668904803\n",
      "NEw RMSE 7.09668904803\n",
      "2 Nearest Neighbor\n",
      "Iteration number: 1 Test index start: 0\n",
      "RMSE: 15.7295772353\n",
      "Iteration number: 2 Test index start: 50\n",
      "RMSE: 7.32683424134\n",
      "Iteration number: 3 Test index start: 100\n",
      "RMSE: 17.9205161756\n",
      "Iteration number: 4 Test index start: 150\n",
      "RMSE: 9.79069456167\n",
      "Iteration number: 5 Test index start: 200\n",
      "RMSE: 8.70094822419\n",
      "Iteration number: 6 Test index start: 250\n",
      "RMSE: 9.97420673537\n",
      "Iteration number: 7 Test index start: 300\n",
      "RMSE: 7.55656006394\n",
      "Iteration number: 8 Test index start: 350\n",
      "RMSE: 10.4076942691\n",
      "Iteration number: 9 Test index start: 400\n",
      "RMSE: 8.12462922231\n",
      "Iteration number: 10 Test index start: 450\n",
      "RMSE: 16.215267497\n",
      "Avg RMSE: 11.1746928226\n",
      "NEw RMSE 11.1746928226\n",
      "3 Nearest Neighbor\n",
      "Iteration number: 1 Test index start: 0\n",
      "RMSE: 12.8698640241\n",
      "Iteration number: 2 Test index start: 50\n",
      "RMSE: 6.67293372097\n",
      "Iteration number: 3 Test index start: 100\n",
      "RMSE: 11.6788013084\n",
      "Iteration number: 4 Test index start: 150\n",
      "RMSE: 8.60824281979\n",
      "Iteration number: 5 Test index start: 200\n",
      "RMSE: 7.92402675412\n",
      "Iteration number: 6 Test index start: 250\n",
      "RMSE: 12.206049502\n",
      "Iteration number: 7 Test index start: 300\n",
      "RMSE: 15.3074680394\n",
      "Iteration number: 8 Test index start: 350\n",
      "RMSE: 11.5765817254\n",
      "Iteration number: 9 Test index start: 400\n",
      "RMSE: 12.5475938375\n",
      "Iteration number: 10 Test index start: 450\n",
      "RMSE: 12.477218351\n",
      "Avg RMSE: 11.1868780083\n",
      "NEw RMSE 11.1868780083\n",
      "4 Nearest Neighbor\n",
      "Iteration number: 1 Test index start: 0\n",
      "RMSE: 20.5271844148\n",
      "Iteration number: 2 Test index start: 50\n",
      "RMSE: 8.59032158886\n",
      "Iteration number: 3 Test index start: 100\n",
      "RMSE: 12.5776398819\n",
      "Iteration number: 4 Test index start: 150\n",
      "RMSE: 11.2362282373\n",
      "Iteration number: 5 Test index start: 200\n",
      "RMSE: 9.39994281898\n",
      "Iteration number: 6 Test index start: 250\n",
      "RMSE: 11.1705371402\n",
      "Iteration number: 7 Test index start: 300\n",
      "RMSE: 9.46662030505\n",
      "Iteration number: 8 Test index start: 350\n",
      "RMSE: 8.834315197\n",
      "Iteration number: 9 Test index start: 400\n",
      "RMSE: 7.57247647735\n",
      "Iteration number: 10 Test index start: 450\n",
      "RMSE: 11.1399741921\n",
      "Avg RMSE: 11.0515240254\n",
      "NEw RMSE 11.0515240254\n",
      "5 Nearest Neighbor\n",
      "Iteration number: 1 Test index start: 0\n",
      "RMSE: 9.35776682761\n",
      "Iteration number: 2 Test index start: 50\n",
      "RMSE: 14.5199173551\n",
      "Iteration number: 3 Test index start: 100\n",
      "RMSE: 8.94616789469\n",
      "Iteration number: 4 Test index start: 150\n",
      "RMSE: 8.41721806775\n",
      "Iteration number: 5 Test index start: 200\n",
      "RMSE: 14.6899707284\n",
      "Iteration number: 6 Test index start: 250\n",
      "RMSE: 13.8137916591\n",
      "Iteration number: 7 Test index start: 300\n",
      "RMSE: 7.75932213534\n",
      "Iteration number: 8 Test index start: 350\n",
      "RMSE: 10.4118144432\n",
      "Iteration number: 9 Test index start: 400\n",
      "RMSE: 9.25347718428\n",
      "Iteration number: 10 Test index start: 450\n",
      "RMSE: 9.4609365287\n",
      "Avg RMSE: 10.6630382824\n",
      "NEw RMSE 10.6630382824\n",
      "6 Nearest Neighbor\n",
      "Iteration number: 1 Test index start: 0\n",
      "RMSE: 9.51620722767\n",
      "Iteration number: 2 Test index start: 50\n",
      "RMSE: 11.0924839418\n",
      "Iteration number: 3 Test index start: 100\n",
      "RMSE: 23.4081270312\n",
      "Iteration number: 4 Test index start: 150\n",
      "RMSE: 13.8592704634\n",
      "Iteration number: 5 Test index start: 200\n",
      "RMSE: 9.9582383538\n",
      "Iteration number: 6 Test index start: 250\n",
      "RMSE: 13.0571108766\n",
      "Iteration number: 7 Test index start: 300\n",
      "RMSE: 9.1780032929\n",
      "Iteration number: 8 Test index start: 350\n",
      "RMSE: 9.6121057931\n",
      "Iteration number: 9 Test index start: 400\n",
      "RMSE: 8.11050621793\n",
      "Iteration number: 10 Test index start: 450\n",
      "RMSE: 8.55471799652\n",
      "Avg RMSE: 11.6346771195\n",
      "NEw RMSE 11.6346771195\n",
      "7 Nearest Neighbor\n",
      "Iteration number: 1 Test index start: 0\n",
      "RMSE: 11.5467944134\n",
      "Iteration number: 2 Test index start: 50\n",
      "RMSE: 11.1846518379\n",
      "Iteration number: 3 Test index start: 100\n",
      "RMSE: 7.15329551568\n",
      "Iteration number: 4 Test index start: 150\n",
      "RMSE: 8.97572167527\n",
      "Iteration number: 5 Test index start: 200\n",
      "RMSE: 11.5275412887\n",
      "Iteration number: 6 Test index start: 250\n",
      "RMSE: 9.73785041024\n",
      "Iteration number: 7 Test index start: 300\n",
      "RMSE: 8.7304510485\n",
      "Iteration number: 8 Test index start: 350\n",
      "RMSE: 9.49705862091\n",
      "Iteration number: 9 Test index start: 400\n",
      "RMSE: 12.4310826691\n",
      "Iteration number: 10 Test index start: 450\n",
      "RMSE: 10.1724215005\n",
      "Avg RMSE: 10.095686898\n",
      "NEw RMSE 10.095686898\n",
      "8 Nearest Neighbor\n",
      "Iteration number: 1 Test index start: 0\n",
      "RMSE: 10.3814356546\n",
      "Iteration number: 2 Test index start: 50\n",
      "RMSE: 10.556533818\n",
      "Iteration number: 3 Test index start: 100\n",
      "RMSE: 11.7654985551\n",
      "Iteration number: 4 Test index start: 150\n",
      "RMSE: 8.71465432476\n",
      "Iteration number: 5 Test index start: 200\n",
      "RMSE: 27.9138434518\n",
      "Iteration number: 6 Test index start: 250\n",
      "RMSE: 9.73146475357\n",
      "Iteration number: 7 Test index start: 300\n",
      "RMSE: 8.74403939836\n",
      "Iteration number: 8 Test index start: 350\n",
      "RMSE: 7.29707861065\n",
      "Iteration number: 9 Test index start: 400\n",
      "RMSE: 9.95472877581\n",
      "Iteration number: 10 Test index start: 450\n",
      "RMSE: 10.1230195594\n",
      "Avg RMSE: 11.5182296902\n",
      "NEw RMSE 11.5182296902\n",
      "9 Nearest Neighbor\n",
      "Iteration number: 1 Test index start: 0\n",
      "RMSE: 11.1817346652\n",
      "Iteration number: 2 Test index start: 50\n",
      "RMSE: 11.3589308965\n",
      "Iteration number: 3 Test index start: 100\n",
      "RMSE: 7.0030763963\n",
      "Iteration number: 4 Test index start: 150\n",
      "RMSE: 16.8494035503\n",
      "Iteration number: 5 Test index start: 200\n",
      "RMSE: 11.8822044552\n",
      "Iteration number: 6 Test index start: 250\n",
      "RMSE: 13.3208999436\n",
      "Iteration number: 7 Test index start: 300\n",
      "RMSE: 10.8931849802\n",
      "Iteration number: 8 Test index start: 350\n",
      "RMSE: 14.7796262837\n",
      "Iteration number: 9 Test index start: 400\n",
      "RMSE: 7.3853308058\n",
      "Iteration number: 10 Test index start: 450\n",
      "RMSE: 9.07126844003\n",
      "Avg RMSE: 11.3725660417\n",
      "NEw RMSE 11.3725660417\n",
      "10 Nearest Neighbor\n",
      "Iteration number: 1 Test index start: 0\n",
      "RMSE: 10.2871473208\n",
      "Iteration number: 2 Test index start: 50\n",
      "RMSE: 9.56850772064\n",
      "Iteration number: 3 Test index start: 100\n",
      "RMSE: 9.51261898743\n",
      "Iteration number: 4 Test index start: 150\n",
      "RMSE: 8.21879796564\n",
      "Iteration number: 5 Test index start: 200\n",
      "RMSE: 8.71040067965\n",
      "Iteration number: 6 Test index start: 250\n",
      "RMSE: 13.11496626\n",
      "Iteration number: 7 Test index start: 300\n",
      "RMSE: 10.2614004892\n",
      "Iteration number: 8 Test index start: 350\n",
      "RMSE: 9.53297225423\n",
      "Iteration number: 9 Test index start: 400\n",
      "RMSE: 10.1017473736\n",
      "Iteration number: 10 Test index start: 450\n",
      "RMSE: 10.5879072531\n",
      "Avg RMSE: 9.98964663043\n",
      "NEw RMSE 9.98964663043\n",
      "11 Nearest Neighbor\n",
      "Iteration number: 1 Test index start: 0\n",
      "RMSE: 10.7741447476\n",
      "Iteration number: 2 Test index start: 50\n",
      "RMSE: 12.4428966094\n",
      "Iteration number: 3 Test index start: 100\n",
      "RMSE: 9.96614284996\n",
      "Iteration number: 4 Test index start: 150\n",
      "RMSE: 11.1097178814\n",
      "Iteration number: 5 Test index start: 200\n",
      "RMSE: 12.2488366795\n",
      "Iteration number: 6 Test index start: 250\n",
      "RMSE: 11.4058569846\n",
      "Iteration number: 7 Test index start: 300\n",
      "RMSE: 12.1842423639\n",
      "Iteration number: 8 Test index start: 350\n",
      "RMSE: 9.01762168348\n",
      "Iteration number: 9 Test index start: 400\n",
      "RMSE: 9.45390924433\n",
      "Iteration number: 10 Test index start: 450\n",
      "RMSE: 11.1981111896\n",
      "Avg RMSE: 10.9801480234\n",
      "NEw RMSE 10.9801480234\n",
      "12 Nearest Neighbor\n",
      "Iteration number: 1 Test index start: 0\n",
      "RMSE: 10.8937678412\n",
      "Iteration number: 2 Test index start: 50\n",
      "RMSE: 15.0357972851\n",
      "Iteration number: 3 Test index start: 100\n",
      "RMSE: 9.16438274578\n",
      "Iteration number: 4 Test index start: 150\n",
      "RMSE: 10.06834699\n",
      "Iteration number: 5 Test index start: 200\n",
      "RMSE: 10.0141063006\n",
      "Iteration number: 6 Test index start: 250\n",
      "RMSE: 11.320856858\n",
      "Iteration number: 7 Test index start: 300\n",
      "RMSE: 8.86801697112\n",
      "Iteration number: 8 Test index start: 350\n",
      "RMSE: 9.82218407484\n",
      "Iteration number: 9 Test index start: 400\n",
      "RMSE: 11.8306569743\n",
      "Iteration number: 10 Test index start: 450\n",
      "RMSE: 11.5782176953\n",
      "Avg RMSE: 10.8596333736\n",
      "NEw RMSE 10.8596333736\n",
      "13 Nearest Neighbor\n",
      "Iteration number: 1 Test index start: 0\n",
      "RMSE: 9.68516751649\n",
      "Iteration number: 2 Test index start: 50\n",
      "RMSE: 10.3150123262\n",
      "Iteration number: 3 Test index start: 100\n",
      "RMSE: 6.94537826831\n",
      "Iteration number: 4 Test index start: 150\n",
      "RMSE: 8.77068753082\n",
      "Iteration number: 5 Test index start: 200\n",
      "RMSE: 10.1493657364\n",
      "Iteration number: 6 Test index start: 250\n",
      "RMSE: 10.8057971511\n",
      "Iteration number: 7 Test index start: 300\n",
      "RMSE: 11.8199543447\n",
      "Iteration number: 8 Test index start: 350\n",
      "RMSE: 8.99310123497\n",
      "Iteration number: 9 Test index start: 400\n",
      "RMSE: 14.6765103554\n",
      "Iteration number: 10 Test index start: 450\n",
      "RMSE: 10.5038949665\n",
      "Avg RMSE: 10.2664869431\n",
      "NEw RMSE 10.2664869431\n",
      "14 Nearest Neighbor\n",
      "Iteration number: 1 Test index start: 0\n",
      "RMSE: 10.4563167121\n",
      "Iteration number: 2 Test index start: 50\n",
      "RMSE: 8.15858281011\n",
      "Iteration number: 3 Test index start: 100\n",
      "RMSE: 11.9648092849\n",
      "Iteration number: 4 Test index start: 150\n",
      "RMSE: 11.888851406\n",
      "Iteration number: 5 Test index start: 200\n",
      "RMSE: 8.84749624447\n",
      "Iteration number: 6 Test index start: 250\n",
      "RMSE: 10.1890285131\n",
      "Iteration number: 7 Test index start: 300\n",
      "RMSE: 11.8629026458\n",
      "Iteration number: 8 Test index start: 350\n",
      "RMSE: 13.6440206684\n",
      "Iteration number: 9 Test index start: 400\n",
      "RMSE: 17.8712680705\n",
      "Iteration number: 10 Test index start: 450\n",
      "RMSE: 24.6290517437\n",
      "Avg RMSE: 12.9512328099\n",
      "NEw RMSE 12.9512328099\n",
      "15 Nearest Neighbor\n",
      "Iteration number: 1 Test index start: 0\n",
      "RMSE: 8.80551064833\n",
      "Iteration number: 2 Test index start: 50\n",
      "RMSE: 7.37581995442\n",
      "Iteration number: 3 Test index start: 100\n",
      "RMSE: 8.67814496307\n",
      "Iteration number: 4 Test index start: 150\n",
      "RMSE: 11.5109086426\n",
      "Iteration number: 5 Test index start: 200\n",
      "RMSE: 8.3338693161\n",
      "Iteration number: 6 Test index start: 250\n",
      "RMSE: 9.31917330621\n",
      "Iteration number: 7 Test index start: 300\n",
      "RMSE: 12.2634923429\n",
      "Iteration number: 8 Test index start: 350\n",
      "RMSE: 10.9448352102\n",
      "Iteration number: 9 Test index start: 400\n",
      "RMSE: 7.98432742593\n",
      "Iteration number: 10 Test index start: 450\n",
      "RMSE: 9.45420212275\n",
      "Avg RMSE: 9.46702839324\n",
      "NEw RMSE 9.46702839324\n",
      "16 Nearest Neighbor\n",
      "Iteration number: 1 Test index start: 0\n",
      "RMSE: 11.1536944552\n",
      "Iteration number: 2 Test index start: 50\n",
      "RMSE: 10.4151350957\n",
      "Iteration number: 3 Test index start: 100\n",
      "RMSE: 13.3442948952\n",
      "Iteration number: 4 Test index start: 150\n",
      "RMSE: 9.90928131854\n",
      "Iteration number: 5 Test index start: 200\n",
      "RMSE: 10.1465720812\n",
      "Iteration number: 6 Test index start: 250\n",
      "RMSE: 9.87161342246\n",
      "Iteration number: 7 Test index start: 300\n",
      "RMSE: 10.166028677\n",
      "Iteration number: 8 Test index start: 350\n",
      "RMSE: 9.55887619245\n",
      "Iteration number: 9 Test index start: 400\n",
      "RMSE: 12.6741688584\n",
      "Iteration number: 10 Test index start: 450\n",
      "RMSE: 7.82518729808\n",
      "Avg RMSE: 10.5064852294\n",
      "NEw RMSE 10.5064852294\n",
      "17 Nearest Neighbor\n",
      "Iteration number: 1 Test index start: 0\n",
      "RMSE: 9.02549721622\n",
      "Iteration number: 2 Test index start: 50\n",
      "RMSE: 11.2254559636\n",
      "Iteration number: 3 Test index start: 100\n",
      "RMSE: 9.22268247162\n",
      "Iteration number: 4 Test index start: 150\n",
      "RMSE: 10.7533550892\n",
      "Iteration number: 5 Test index start: 200\n",
      "RMSE: 10.6744873867\n",
      "Iteration number: 6 Test index start: 250\n",
      "RMSE: 10.5647329359\n",
      "Iteration number: 7 Test index start: 300\n",
      "RMSE: 9.45240713745\n",
      "Iteration number: 8 Test index start: 350\n",
      "RMSE: 9.01861738381\n",
      "Iteration number: 9 Test index start: 400\n",
      "RMSE: 23.9557148082\n",
      "Iteration number: 10 Test index start: 450\n",
      "RMSE: 9.78045296536\n",
      "Avg RMSE: 11.3673403358\n",
      "NEw RMSE 11.3673403358\n",
      "18 Nearest Neighbor\n",
      "Iteration number: 1 Test index start: 0\n",
      "RMSE: 9.41637036571\n",
      "Iteration number: 2 Test index start: 50\n",
      "RMSE: 7.78657518338\n",
      "Iteration number: 3 Test index start: 100\n",
      "RMSE: 10.2278938372\n",
      "Iteration number: 4 Test index start: 150\n",
      "RMSE: 9.07241246313\n",
      "Iteration number: 5 Test index start: 200\n",
      "RMSE: 8.36402680797\n",
      "Iteration number: 6 Test index start: 250\n",
      "RMSE: 8.90140798961\n",
      "Iteration number: 7 Test index start: 300\n",
      "RMSE: 10.1443442249\n",
      "Iteration number: 8 Test index start: 350\n",
      "RMSE: 10.376025786\n",
      "Iteration number: 9 Test index start: 400\n",
      "RMSE: 9.30678114649\n",
      "Iteration number: 10 Test index start: 450\n",
      "RMSE: 11.572519386\n",
      "Avg RMSE: 9.51683571903\n",
      "NEw RMSE 9.51683571903\n",
      "19 Nearest Neighbor\n",
      "Iteration number: 1 Test index start: 0\n",
      "RMSE: 11.0995865761\n",
      "Iteration number: 2 Test index start: 50\n",
      "RMSE: 12.2212886327\n",
      "Iteration number: 3 Test index start: 100\n",
      "RMSE: 8.97669913854\n",
      "Iteration number: 4 Test index start: 150\n",
      "RMSE: 9.30226952322\n",
      "Iteration number: 5 Test index start: 200\n",
      "RMSE: 8.98998670421\n",
      "Iteration number: 6 Test index start: 250\n",
      "RMSE: 11.7011370047\n",
      "Iteration number: 7 Test index start: 300\n",
      "RMSE: 16.2767023313\n",
      "Iteration number: 8 Test index start: 350\n",
      "RMSE: 10.5347778618\n",
      "Iteration number: 9 Test index start: 400\n",
      "RMSE: 10.331877144\n",
      "Iteration number: 10 Test index start: 450\n",
      "RMSE: 8.73252417079\n",
      "Avg RMSE: 10.8166849087\n",
      "NEw RMSE 10.8166849087\n",
      "20 Nearest Neighbor\n",
      "Iteration number: 1 Test index start: 0\n",
      "RMSE: 9.44302732179\n",
      "Iteration number: 2 Test index start: 50\n",
      "RMSE: 13.2680098357\n",
      "Iteration number: 3 Test index start: 100\n",
      "RMSE: 9.90522210756\n",
      "Iteration number: 4 Test index start: 150\n",
      "RMSE: 10.3025326983\n",
      "Iteration number: 5 Test index start: 200\n",
      "RMSE: 8.9092774679\n",
      "Iteration number: 6 Test index start: 250\n",
      "RMSE: 14.5333279052\n",
      "Iteration number: 7 Test index start: 300\n",
      "RMSE: 9.25445298221\n",
      "Iteration number: 8 Test index start: 350\n",
      "RMSE: 8.71342068306\n",
      "Iteration number: 9 Test index start: 400\n",
      "RMSE: 11.5820682523\n",
      "Iteration number: 10 Test index start: 450\n",
      "RMSE: 9.55567370728\n",
      "Avg RMSE: 10.5467012961\n",
      "NEw RMSE 10.5467012961\n",
      "21 Nearest Neighbor\n",
      "Iteration number: 1 Test index start: 0\n",
      "RMSE: 9.64416397964\n",
      "Iteration number: 2 Test index start: 50\n",
      "RMSE: 12.5516036142\n",
      "Iteration number: 3 Test index start: 100\n",
      "RMSE: 12.2717047292\n",
      "Iteration number: 4 Test index start: 150\n",
      "RMSE: 13.5725746216\n",
      "Iteration number: 5 Test index start: 200\n",
      "RMSE: 9.10244316957\n",
      "Iteration number: 6 Test index start: 250\n",
      "RMSE: 10.5288133762\n",
      "Iteration number: 7 Test index start: 300\n",
      "RMSE: 9.1394854398\n",
      "Iteration number: 8 Test index start: 350\n",
      "RMSE: 11.0577654966\n",
      "Iteration number: 9 Test index start: 400\n",
      "RMSE: 7.99943056363\n",
      "Iteration number: 10 Test index start: 450\n",
      "RMSE: 8.98269061096\n",
      "Avg RMSE: 10.4850675601\n",
      "NEw RMSE 10.4850675601\n",
      "22 Nearest Neighbor\n",
      "Iteration number: 1 Test index start: 0\n",
      "RMSE: 11.1574773134\n",
      "Iteration number: 2 Test index start: 50\n",
      "RMSE: 7.20593195721\n",
      "Iteration number: 3 Test index start: 100\n",
      "RMSE: 9.79051898438\n",
      "Iteration number: 4 Test index start: 150\n",
      "RMSE: 8.14103801735\n",
      "Iteration number: 5 Test index start: 200\n",
      "RMSE: 13.1381980789\n",
      "Iteration number: 6 Test index start: 250\n",
      "RMSE: 9.80891220665\n",
      "Iteration number: 7 Test index start: 300\n",
      "RMSE: 12.1424171828\n",
      "Iteration number: 8 Test index start: 350\n",
      "RMSE: 10.8834248833\n",
      "Iteration number: 9 Test index start: 400\n",
      "RMSE: 12.7552114451\n",
      "Iteration number: 10 Test index start: 450\n",
      "RMSE: 15.9043578934\n",
      "Avg RMSE: 11.0927487962\n",
      "NEw RMSE 11.0927487962\n",
      "23 Nearest Neighbor\n",
      "Iteration number: 1 Test index start: 0\n",
      "RMSE: 9.68330322962\n",
      "Iteration number: 2 Test index start: 50\n",
      "RMSE: 8.19510426031\n",
      "Iteration number: 3 Test index start: 100\n",
      "RMSE: 10.5319766221\n",
      "Iteration number: 4 Test index start: 150\n",
      "RMSE: 10.1308695372\n",
      "Iteration number: 5 Test index start: 200\n",
      "RMSE: 10.1908510806\n",
      "Iteration number: 6 Test index start: 250\n",
      "RMSE: 9.83718213529\n",
      "Iteration number: 7 Test index start: 300\n",
      "RMSE: 22.9948407627\n",
      "Iteration number: 8 Test index start: 350\n",
      "RMSE: 12.9186307631\n",
      "Iteration number: 9 Test index start: 400\n",
      "RMSE: 10.860960072\n",
      "Iteration number: 10 Test index start: 450\n",
      "RMSE: 7.42296159159\n",
      "Avg RMSE: 11.2766680055\n",
      "NEw RMSE 11.2766680055\n",
      "24 Nearest Neighbor\n",
      "Iteration number: 1 Test index start: 0\n",
      "RMSE: 9.45247090712\n",
      "Iteration number: 2 Test index start: 50\n",
      "RMSE: 5.22791711498\n",
      "Iteration number: 3 Test index start: 100\n",
      "RMSE: 10.5922852232\n",
      "Iteration number: 4 Test index start: 150\n",
      "RMSE: 10.4056448356\n",
      "Iteration number: 5 Test index start: 200\n",
      "RMSE: 13.5362071046\n",
      "Iteration number: 6 Test index start: 250\n",
      "RMSE: 12.2383973397\n",
      "Iteration number: 7 Test index start: 300\n",
      "RMSE: 9.77695508297\n",
      "Iteration number: 8 Test index start: 350\n",
      "RMSE: 16.5690163491\n",
      "Iteration number: 9 Test index start: 400\n",
      "RMSE: 10.4236584868\n",
      "Iteration number: 10 Test index start: 450\n",
      "RMSE: 8.76105908267\n",
      "Avg RMSE: 10.6983611527\n",
      "NEw RMSE 10.6983611527\n",
      "25 Nearest Neighbor\n",
      "Iteration number: 1 Test index start: 0\n",
      "RMSE: 9.97711741938\n",
      "Iteration number: 2 Test index start: 50\n",
      "RMSE: 9.54068760625\n",
      "Iteration number: 3 Test index start: 100\n",
      "RMSE: 8.2428829908\n",
      "Iteration number: 4 Test index start: 150\n",
      "RMSE: 9.88121450025\n",
      "Iteration number: 5 Test index start: 200\n",
      "RMSE: 8.29859988191\n",
      "Iteration number: 6 Test index start: 250\n",
      "RMSE: 9.68483763416\n",
      "Iteration number: 7 Test index start: 300\n",
      "RMSE: 9.03283122836\n",
      "Iteration number: 8 Test index start: 350\n",
      "RMSE: 9.45625930271\n",
      "Iteration number: 9 Test index start: 400\n",
      "RMSE: 11.1675422542\n",
      "Iteration number: 10 Test index start: 450\n",
      "RMSE: 12.0499739419\n",
      "Avg RMSE: 9.73319467599\n",
      "NEw RMSE 9.73319467599\n"
     ]
    }
   ],
   "source": [
    "'''\n",
    "CRIM - 0\n",
    "ZN - 1\n",
    "RM - 5\n",
    "AGE - 6\n",
    "DIS - 7\n",
    "TAX - 9\n",
    "'''\n",
    "rmse_array_307 = []\n",
    "for i in range(1,26):\n",
    "    print(i,\"Nearest Neighbor\")\n",
    "    new_rmse = k_cross_validation(tot_data,['CRIM','RM','ZN','AGE','DIS','TAX'],10,i,2)\n",
    "    print(\"NEw RMSE\",new_rmse)\n",
    "    rmse_array_307.append(new_rmse)"
   ]
  },
  {
   "cell_type": "code",
   "execution_count": 435,
   "metadata": {
    "collapsed": false
   },
   "outputs": [
    {
     "data": {
      "image/png": "[encoded data removed]",
      "text/plain": [
       "<matplotlib.figure.Figure at 0x1779b67e470>"
      ]
     },
     "metadata": {},
     "output_type": "display_data"
    }
   ],
   "source": [
    "plt.scatter(range(1,26),rmse_array_307)\n",
    "plt.ylabel('Average RMSE for K nearest neighbor')\n",
    "plt.xlabel('Kth iteration')\n",
    "plt.title('Average RMSE value for each K nearest neighbor')\n",
    "plt.show()"
   ]
  },
  {
   "cell_type": "markdown",
   "metadata": {},
   "source": [
    "From the average values of the 25-fold cross validation, it can be observed that as the number of nearest neighbors increases, the average RMSE is increasing. It is least for K = 1 and hence is the reasonable choice."
   ]
  },
  {
   "cell_type": "markdown",
   "metadata": {
    "ein.tags": [
     "worksheet-0"
    ],
    "slideshow": {
     "slide_type": "-"
    }
   },
   "source": [
    "### Extra-Credit: Forward selection\n",
    "\n",
    "Thus far the choice of predictor variables has been rather arbitrary. For extra credit, implement a basic [forward selection](http://www.stat.ubc.ca/~rollin/teach/643w04/lec/node41.html) algorithm to progressively include features that decrease the cross-validated RMSE of the model. Note that the optimal value of K may be different for each model, so you may want to use cross-validation to choose K each time (but it is also fine if you fix K at the optimal value from 2.7).  Create a graph that shows RMSE as a function of the number of features in the model. Label each point on the x-axis with the name of the feature that is added at that step in the forward selection algorithm. *(For instance, if the optimal single-feature model has CRIM with RMSE = 10, and the optimal two-feature model has CRIM+ZN with RMSE=9, the first x-axis label will say CRIM and the second x-axis lable with say ZN)*"
   ]
  }
 ],
 "metadata": {
  "anaconda-cloud": {},
  "kernelspec": {
   "display_name": "Python 3",
   "language": "python",
   "name": "python3"
  },
  "language_info": {
   "codemirror_mode": {
    "name": "ipython",
    "version": 3
   },
   "file_extension": ".py",
   "mimetype": "text/x-python",
   "name": "python",
   "nbconvert_exporter": "python",
   "pygments_lexer": "ipython3",
   "version": "3.6.0"
  },
  "name": "infx573-ps3-solutions.ipynb"
 },
 "nbformat": 4,
 "nbformat_minor": 0
}
